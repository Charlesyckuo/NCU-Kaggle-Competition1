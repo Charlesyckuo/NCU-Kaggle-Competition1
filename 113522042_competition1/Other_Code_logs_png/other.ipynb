{
 "cells": [
  {
   "cell_type": "code",
   "execution_count": 7,
   "metadata": {},
   "outputs": [],
   "source": [
    "from sklearn.model_selection import train_test_split\n",
    "from sklearn.preprocessing import StandardScaler\n",
    "from sklearn.metrics import roc_auc_score\n",
    "import numpy as np\n",
    "import pandas as pd\n",
    "import xgboost as xgb\n",
    "from xgboost.sklearn import XGBClassifier\n",
    "from sklearn.model_selection import RandomizedSearchCV\n",
    "import matplotlib.pyplot as plt\n",
    "import numpy as np\n",
    "from sklearn.model_selection import KFold\n",
    "from imblearn.over_sampling import SMOTE\n",
    "from collections import Counter\n",
    "from sklearn.model_selection import cross_val_score"
   ]
  },
  {
   "cell_type": "markdown",
   "metadata": {},
   "source": [
    "# 資料過採樣"
   ]
  },
  {
   "cell_type": "code",
   "execution_count": 18,
   "metadata": {},
   "outputs": [
    {
     "name": "stdout",
     "output_type": "stream",
     "text": [
      "Original years dataset shape: Counter({0: 14430, 1: 9074, 2: 3016})\n",
      "Resampled years dataset shape: Counter({0: 14430, 2: 14430, 1: 14430})\n",
      "Original level dataset shape: Counter({0: 13702, 2: 10634, 1: 2184})\n",
      "Resampled level dataset shape: Counter({2: 13702, 0: 13702, 1: 13702})\n",
      "Original gender dataset shape: Counter({0: 20722, 1: 5798})\n",
      "Resampled gender dataset shape: Counter({0: 20722, 1: 20722})\n",
      "Original hold dataset shape: Counter({0: 23894, 1: 2626})\n",
      "Resampled hold dataset shape: Counter({0: 23894, 1: 23894})\n"
     ]
    }
   ],
   "source": [
    "# 讀取資料\n",
    "train_data = pd.read_csv('train.csv')\n",
    "test_data = pd.read_csv('test.csv')\n",
    "\n",
    "X_test = test_data.drop(columns=['data_ID'])\n",
    "\n",
    "# 分離特徵和目標變量\n",
    "X_train= train_data.drop(columns=['data_ID', 'player_ID', 'level', 'play years', 'gender', 'hold racket handed'])  \n",
    "y_train_level = train_data['level']\n",
    "y_train_years = train_data['play years']\n",
    "y_train_gender = train_data['gender']\n",
    "y_train_hold = train_data['hold racket handed']\n",
    "\n",
    "# 使用 SMOTE 增加少數類別的樣本\n",
    "smote = SMOTE(random_state=42)\n",
    "\n",
    "# 進行 SMOTE 過採樣\n",
    "X_train_smote_level, y_train_smote_level = smote.fit_resample(X_train, y_train_level)\n",
    "X_train_smote_years, y_train_smote_years = smote.fit_resample(X_train, y_train_years)\n",
    "X_train_smote_gender, y_train_smote_gender = smote.fit_resample(X_train, y_train_gender)\n",
    "X_train_smote_hold, y_train_smote_hold = smote.fit_resample(X_train, y_train_hold)\n",
    "\n",
    "# 查看過採樣後的類別分佈\n",
    "print(\"Original years dataset shape:\", Counter(y_train_years))\n",
    "print(\"Resampled years dataset shape:\", Counter(y_train_smote_years))\n",
    "\n",
    "print(\"Original level dataset shape:\", Counter(y_train_level))\n",
    "print(\"Resampled level dataset shape:\", Counter(y_train_smote_level))\n",
    "\n",
    "print(\"Original gender dataset shape:\", Counter(y_train_gender))\n",
    "print(\"Resampled gender dataset shape:\", Counter(y_train_smote_gender))\n",
    "\n",
    "print(\"Original hold dataset shape:\", Counter(y_train_hold))\n",
    "print(\"Resampled hold dataset shape:\", Counter(y_train_smote_hold))\n",
    "\n",
    "# 定義標準化函數\n",
    "def standardize_data(X_train_smote, X_test):\n",
    "    X_combined = pd.concat([X_train_smote, X_test], axis=0)\n",
    "    scaler = StandardScaler()\n",
    "    X_combined_scaled = scaler.fit_transform(X_combined)\n",
    "    X_train_scaled = X_combined_scaled[:len(X_train_smote)]\n",
    "    X_test_scaled = X_combined_scaled[len(X_train_smote):]\n",
    "    return X_train_scaled, X_test_scaled\n",
    "\n",
    "# 使用標準化函數\n",
    "X_scaled_years, X_test_scaled_years = standardize_data(X_train_smote_years, X_test)\n",
    "X_scaled_level, X_test_scaled_level = standardize_data(X_train_smote_level, X_test)\n",
    "X_scaled_gender, X_test_scaled_gender = standardize_data(X_train_smote_gender, X_test)\n",
    "X_scaled_hold, X_test_scaled_hold = standardize_data(X_train_smote_hold, X_test)"
   ]
  },
  {
   "cell_type": "code",
   "execution_count": 8,
   "metadata": {},
   "outputs": [],
   "source": [
    "train_data = pd.read_csv('train.csv')\n",
    "test_data = pd.read_csv('test.csv')\n",
    "\n",
    "X_train= train_data.drop(columns=['data_ID', 'player_ID', 'gender', 'play years', 'hold racket handed', 'level'])\n",
    "X_test = test_data.drop(columns=['data_ID'])\n",
    "\n",
    "y_play_years = train_data['play years']\n",
    "y_level = train_data['level']\n",
    "y_gender = train_data['gender']\n",
    "y_hold= train_data['hold racket handed']\n",
    "\n",
    "# 合併資料進行正規化\n",
    "X_combined = pd.concat([X_train, X_test], axis=0)\n",
    "scaler = StandardScaler()\n",
    "X_combined_scaled = scaler.fit_transform(X_combined)\n",
    "\n",
    "# 將正規化後的數據拆分回訓練集和測試集\n",
    "X_scaled = X_combined_scaled[:len(X_train)]\n",
    "X_test_scaled = X_combined_scaled[len(X_train):]"
   ]
  },
  {
   "cell_type": "code",
   "execution_count": 3,
   "metadata": {},
   "outputs": [
    {
     "ename": "NameError",
     "evalue": "name 'X_scaled_years' is not defined",
     "output_type": "error",
     "traceback": [
      "\u001b[0;31m---------------------------------------------------------------------------\u001b[0m",
      "\u001b[0;31mNameError\u001b[0m                                 Traceback (most recent call last)",
      "Cell \u001b[0;32mIn[3], line 16\u001b[0m\n\u001b[1;32m     14\u001b[0m \u001b[38;5;66;03m# 特徵篩選 - years\u001b[39;00m\n\u001b[1;32m     15\u001b[0m years_model \u001b[38;5;241m=\u001b[39m XGBClassifier(objective\u001b[38;5;241m=\u001b[39m\u001b[38;5;124m'\u001b[39m\u001b[38;5;124mmulti:softmax\u001b[39m\u001b[38;5;124m'\u001b[39m, num_class\u001b[38;5;241m=\u001b[39m\u001b[38;5;241m3\u001b[39m, n_jobs\u001b[38;5;241m=\u001b[39m\u001b[38;5;241m-\u001b[39m\u001b[38;5;241m1\u001b[39m)\n\u001b[0;32m---> 16\u001b[0m selected_features_years \u001b[38;5;241m=\u001b[39m feature_selection(years_model, pd\u001b[38;5;241m.\u001b[39mDataFrame(\u001b[43mX_scaled_years\u001b[49m, columns\u001b[38;5;241m=\u001b[39mX_train\u001b[38;5;241m.\u001b[39mcolumns), y_train_smote_years, \u001b[38;5;241m0.01\u001b[39m)\n\u001b[1;32m     17\u001b[0m X_train_selected_years \u001b[38;5;241m=\u001b[39m pd\u001b[38;5;241m.\u001b[39mDataFrame(X_scaled_years, columns\u001b[38;5;241m=\u001b[39mX_train\u001b[38;5;241m.\u001b[39mcolumns)[selected_features_years]\n\u001b[1;32m     18\u001b[0m X_test_selected_years \u001b[38;5;241m=\u001b[39m pd\u001b[38;5;241m.\u001b[39mDataFrame(X_test_scaled_years, columns\u001b[38;5;241m=\u001b[39mX_train\u001b[38;5;241m.\u001b[39mcolumns)[selected_features_years]\n",
      "\u001b[0;31mNameError\u001b[0m: name 'X_scaled_years' is not defined"
     ]
    }
   ],
   "source": [
    "from xgboost import XGBClassifier, XGBRegressor\n",
    "import pandas as pd\n",
    "\n",
    "# 假設 X_scaled_years, X_scaled_level, X_scaled_gender, X_scaled_hold 是正規化後的訓練集特徵\n",
    "# y_train_smote_years, y_train_smote_level, y_train_smote_gender, y_train_smote_hold 是四個目標變量的訓練標籤\n",
    "\n",
    "# 定義特徵篩選函數\n",
    "def feature_selection(model, X_train, y_train, threshold):\n",
    "    model.fit(X_train, y_train)\n",
    "    feature_importances = model.feature_importances_\n",
    "    selected_features = X_train.columns[feature_importances > threshold]\n",
    "    return selected_features\n",
    "\n",
    "# 特徵篩選 - years\n",
    "years_model = XGBClassifier(objective='multi:softmax', num_class=3, n_jobs=-1)\n",
    "selected_features_years = feature_selection(years_model, pd.DataFrame(X_scaled_years, columns=X_train.columns), y_train_smote_years, 0.01)\n",
    "X_train_selected_years = pd.DataFrame(X_scaled_years, columns=X_train.columns)[selected_features_years]\n",
    "X_test_selected_years = pd.DataFrame(X_test_scaled_years, columns=X_train.columns)[selected_features_years]\n",
    "\n",
    "# 特徵篩選 - level\n",
    "level_model = XGBClassifier(objective='multi:softmax', num_class=3, n_jobs=-1)\n",
    "selected_features_level = feature_selection(level_model, pd.DataFrame(X_scaled_level, columns=X_train.columns), y_train_smote_level, 0.01)\n",
    "X_train_selected_level = pd.DataFrame(X_scaled_level, columns=X_train.columns)[selected_features_level]\n",
    "X_test_selected_level = pd.DataFrame(X_test_scaled_level, columns=X_train.columns)[selected_features_level]\n",
    "\n",
    "# 特徵篩選 - gender\n",
    "gender_model = XGBClassifier(objective='multi:softmax', num_class = 2, n_jobs=-1)\n",
    "selected_features_gender = feature_selection(gender_model, pd.DataFrame(X_scaled_gender, columns=X_train.columns), y_train_smote_gender, 0.03)\n",
    "X_train_selected_gender = pd.DataFrame(X_scaled_gender, columns=X_train.columns)[selected_features_gender]\n",
    "X_test_selected_gender = pd.DataFrame(X_test_scaled_gender, columns=X_train.columns)[selected_features_gender]\n",
    "\n",
    "# 特徵篩選 - hold\n",
    "hold_model = XGBClassifier(objective='multi:softmax', num_class = 2, n_jobs=-1)\n",
    "selected_features_hold = feature_selection(hold_model, pd.DataFrame(X_scaled_hold, columns=X_train.columns), y_train_smote_hold, 0.05)\n",
    "X_train_selected_hold = pd.DataFrame(X_scaled_hold, columns=X_train.columns)[selected_features_hold]\n",
    "X_test_selected_hold = pd.DataFrame(X_test_scaled_hold, columns=X_train.columns)[selected_features_hold]\n",
    "\n",
    "# 查看每個目標變量的選定特徵\n",
    "print(\"Selected features for years:\", selected_features_years)\n",
    "print(\"Selected features for level:\", selected_features_level)\n",
    "print(\"Selected features for gender:\", selected_features_gender)\n",
    "print(\"Selected features for hold:\", selected_features_hold)"
   ]
  },
  {
   "cell_type": "code",
   "execution_count": 9,
   "metadata": {},
   "outputs": [
    {
     "name": "stdout",
     "output_type": "stream",
     "text": [
      "Selected features for years: Index(['ax_mean', 'ay_mean', 'az_mean', 'gx_mean', 'gy_mean', 'gz_mean',\n",
      "       'ax_var', 'ay_var', 'az_var', 'gx_var', 'gy_var', 'gz_var', 'ax_rms',\n",
      "       'ay_rms', 'az_rms', 'gx_rms', 'gy_rms', 'gz_rms', 'a_max', 'a_mean',\n",
      "       'g_max', 'g_mean', 'a_kurt', 'g_kurt', 'a_skewn', 'g_skewn',\n",
      "       'a_entropy'],\n",
      "      dtype='object')\n",
      "Selected features for level: Index(['ax_mean', 'ay_mean', 'az_mean', 'gx_mean', 'gy_mean', 'gz_mean',\n",
      "       'ax_var', 'ay_var', 'az_var', 'gx_var', 'gy_var', 'gz_var', 'ax_rms',\n",
      "       'ay_rms', 'az_rms', 'gx_rms', 'gy_rms', 'gz_rms', 'a_max', 'a_mean',\n",
      "       'g_max', 'g_mean', 'a_kurt', 'a_skewn', 'g_skewn', 'a_entropy'],\n",
      "      dtype='object')\n",
      "Selected features for gender: Index(['ax_mean', 'ay_mean', 'az_mean', 'gx_mean', 'gy_mean', 'gz_mean',\n",
      "       'ax_var', 'ay_var', 'az_var', 'gx_var', 'gy_var', 'gz_var', 'ax_rms',\n",
      "       'ay_rms', 'az_rms', 'gx_rms', 'gy_rms', 'gz_rms', 'a_max', 'a_mean',\n",
      "       'g_max', 'g_mean', 'a_kurt', 'g_kurt', 'a_skewn', 'g_skewn'],\n",
      "      dtype='object')\n",
      "Selected features for hold: Index(['ax_mean', 'az_mean', 'gx_mean', 'gy_mean', 'ay_var', 'az_var',\n",
      "       'gx_var', 'gy_var', 'ax_rms', 'az_rms', 'gy_rms', 'gz_rms', 'a_max',\n",
      "       'a_mean', 'g_max', 'g_mean', 'g_kurt'],\n",
      "      dtype='object')\n"
     ]
    }
   ],
   "source": [
    "from xgboost import XGBClassifier, XGBRegressor\n",
    "import pandas as pd\n",
    "\n",
    "# 假設 X_scaled_years, X_scaled_level, X_scaled_gender, X_scaled_hold 是正規化後的訓練集特徵\n",
    "# y_train_smote_years, y_train_smote_level, y_train_smote_gender, y_train_smote_hold 是四個目標變量的訓練標籤\n",
    "\n",
    "# 定義特徵篩選函數\n",
    "def feature_selection(model, X_train, y_train, threshold):\n",
    "    model.fit(X_train, y_train)\n",
    "    feature_importances = model.feature_importances_\n",
    "    selected_features = X_train.columns[feature_importances > threshold]\n",
    "    return selected_features\n",
    "\n",
    "# 特徵篩選 - years\n",
    "years_model = XGBClassifier(\n",
    "    objective='multi:softmax', num_class=3, n_jobs=-1, random_state = 42\n",
    ")\n",
    "selected_features_years = feature_selection(years_model, pd.DataFrame(X_scaled, columns=X_train.columns), y_play_years, 0.01)\n",
    "X_train_selected_years = pd.DataFrame(X_scaled, columns=X_train.columns)[selected_features_years]\n",
    "X_test_selected_years = pd.DataFrame(X_test_scaled, columns=X_train.columns)[selected_features_years]\n",
    "\n",
    "# 特徵篩選 - level\n",
    "level_model = XGBClassifier(\n",
    "    objective='multi:softmax', num_class=3, n_jobs=-1, random_state = 42\n",
    ")\n",
    "selected_features_level = feature_selection(level_model, pd.DataFrame(X_scaled, columns=X_train.columns), y_level, 0.01)\n",
    "X_train_selected_level = pd.DataFrame(X_scaled, columns=X_train.columns)[selected_features_level]\n",
    "X_test_selected_level = pd.DataFrame(X_test_scaled, columns=X_train.columns)[selected_features_level]\n",
    "\n",
    "# 特徵篩選 - gender\n",
    "gender_model = XGBClassifier(\n",
    "    objective='multi:softmax', num_class=2, n_jobs=-1, random_state = 42\n",
    ")\n",
    "selected_features_gender = feature_selection(gender_model, pd.DataFrame(X_scaled, columns=X_train.columns), y_gender, 0.01)\n",
    "X_train_selected_gender = pd.DataFrame(X_scaled, columns=X_train.columns)[selected_features_gender]\n",
    "X_test_selected_gender = pd.DataFrame(X_test_scaled, columns=X_train.columns)[selected_features_gender]\n",
    "\n",
    "# 特徵篩選 - hold\n",
    "hold_model = XGBClassifier(\n",
    "    objective='multi:softmax', num_class=2, n_jobs=-1, random_state = 42\n",
    ")\n",
    "selected_features_hold = feature_selection(hold_model, pd.DataFrame(X_scaled, columns=X_train.columns), y_hold, 0.009)\n",
    "X_train_selected_hold = pd.DataFrame(X_scaled, columns=X_train.columns)[selected_features_hold]\n",
    "X_test_selected_hold = pd.DataFrame(X_test_scaled, columns=X_train.columns)[selected_features_hold]\n",
    "\n",
    "# 查看每個目標變量的選定特徵\n",
    "print(\"Selected features for years:\", selected_features_years)\n",
    "print(\"Selected features for level:\", selected_features_level)\n",
    "print(\"Selected features for gender:\", selected_features_gender)\n",
    "print(\"Selected features for hold:\", selected_features_hold)"
   ]
  },
  {
   "cell_type": "code",
   "execution_count": 149,
   "metadata": {},
   "outputs": [
    {
     "name": "stdout",
     "output_type": "stream",
     "text": [
      "[0.03839009 0.02596192 0.07862056 0.07280279 0.04217091 0.02548609\n",
      " 0.02233709 0.01411394 0.04031643 0.05017218 0.03717333 0.02411547\n",
      " 0.03161973 0.01876858 0.02667592 0.02272012 0.03535844 0.0719078\n",
      " 0.01652938 0.04915507 0.00841108 0.04528467 0.07404339 0.00617929\n",
      " 0.00774607 0.         0.00654113 0.         0.01036175 0.02101193\n",
      " 0.04119959 0.02371669 0.01110859 0.        ]\n"
     ]
    },
    {
     "data": {
      "image/png": "[encoded data removed]",
      "text/plain": [
       "<Figure size 1000x600 with 1 Axes>"
      ]
     },
     "metadata": {},
     "output_type": "display_data"
    }
   ],
   "source": [
    "# YEARS Feature check  #有資料擴充\n",
    "model = XGBClassifier()\n",
    "model.fit(X_scaled, y_play_years)  #X_scaled_years, y_train_smote_years\n",
    "feature_importances = model.feature_importances_\n",
    "print(feature_importances)\n",
    "\n",
    "features = X_scaled.columns if hasattr(X_scaled, 'columns') else np.arange(len(feature_importances))\n",
    "\n",
    "plt.figure(figsize=(10, 6))\n",
    "plt.barh(features, feature_importances, color='skyblue')\n",
    "plt.xlabel(\"Feature Importance\")\n",
    "plt.ylabel(\"Features\")\n",
    "plt.title(\"Feature Importance in YEARS\")\n",
    "plt.xticks(np.arange(0, max(feature_importances) + 0.005, 0.005))  # 刻度間隔為 0.01\n",
    "plt.show()"
   ]
  },
  {
   "cell_type": "code",
   "execution_count": null,
   "metadata": {},
   "outputs": [
    {
     "name": "stdout",
     "output_type": "stream",
     "text": [
      "[0.03038548 0.02372851 0.03919483 0.15994263 0.03671588 0.03342837\n",
      " 0.01962991 0.01418039 0.01986757 0.05718179 0.04689867 0.0150648\n",
      " 0.03927409 0.01917393 0.0373206  0.01311694 0.03405754 0.08412626\n",
      " 0.01750157 0.01868319 0.00801301 0.04759144 0.05863667 0.00542922\n",
      " 0.00675045 0.         0.00667545 0.         0.04305419 0.00986592\n",
      " 0.02838316 0.01441052 0.01171698 0.        ]\n"
     ]
    },
    {
     "data": {
      "image/png": "[encoded data removed]",
      "text/plain": [
       "<Figure size 1000x600 with 1 Axes>"
      ]
     },
     "metadata": {},
     "output_type": "display_data"
    }
   ],
   "source": [
    "# LEVEL Feature check\n",
    "model = XGBClassifier()\n",
    "model.fit(X_scaled, y_level) #X_scaled_level, y_train_smote_level\n",
    "feature_importances = model.feature_importances_\n",
    "print(feature_importances)\n",
    "\n",
    "features = X_scaled.columns if hasattr(X_scaled, 'columns') else np.arange(len(feature_importances))\n",
    "\n",
    "plt.figure(figsize=(10, 6))\n",
    "plt.barh(features, feature_importances, color='skyblue')\n",
    "plt.xlabel(\"Feature Importance\")\n",
    "plt.ylabel(\"Features\")\n",
    "plt.title(\"Feature Importance in LEVEL\")\n",
    "plt.xticks(np.arange(0, max(feature_importances) + 0.01, 0.01))  # 刻度間隔為 0.01\n",
    "plt.show()"
   ]
  },
  {
   "cell_type": "code",
   "execution_count": 22,
   "metadata": {},
   "outputs": [
    {
     "name": "stdout",
     "output_type": "stream",
     "text": [
      "[0.02216889 0.02680496 0.2479737  0.02547851 0.04026407 0.06723336\n",
      " 0.04477816 0.01433424 0.06954367 0.0135995  0.07957545 0.01718527\n",
      " 0.01404325 0.01334672 0.0405858  0.03531542 0.01604915 0.03224133\n",
      " 0.01035602 0.01412144 0.01021083 0.01852593 0.04462113 0.00504231\n",
      " 0.00737069 0.         0.00573884 0.         0.01092293 0.01031974\n",
      " 0.01783517 0.01616653 0.00824698 0.        ]\n"
     ]
    },
    {
     "data": {
      "image/png": "[encoded data removed]",
      "text/plain": [
       "<Figure size 1000x600 with 1 Axes>"
      ]
     },
     "metadata": {},
     "output_type": "display_data"
    }
   ],
   "source": [
    "# GENDER Feature check\n",
    "model = XGBClassifier()\n",
    "model.fit(X_scaled, y_gender) #X_scaled_gender, y_train_smote_gender\n",
    "feature_importances = model.feature_importances_\n",
    "print(feature_importances)\n",
    "\n",
    "features = X_scaled.columns if hasattr(X_scaled, 'columns') else np.arange(len(feature_importances))\n",
    "\n",
    "plt.figure(figsize=(10, 6))\n",
    "plt.barh(features, feature_importances, color='skyblue')\n",
    "plt.xlabel(\"Feature Importance\") \n",
    "plt.ylabel(\"Features\")\n",
    "plt.title(\"Feature Importance in GENDER\")\n",
    "plt.xticks(np.arange(0, max(feature_importances) + 0.01, 0.01))  # 刻度間隔為 0.01\n",
    "plt.show()"
   ]
  },
  {
   "cell_type": "code",
   "execution_count": 23,
   "metadata": {},
   "outputs": [
    {
     "name": "stdout",
     "output_type": "stream",
     "text": [
      "[np.float32(0.0), np.float32(0.0), np.float32(0.0), np.float32(0.005042307), np.float32(0.0057388446), np.float32(0.007370689), np.float32(0.008246976), np.float32(0.010210828), np.float32(0.010319742), np.float32(0.01035602), np.float32(0.0109229265), np.float32(0.013346716), np.float32(0.0135995), np.float32(0.014043253), np.float32(0.014121438), np.float32(0.014334238), np.float32(0.016049154), np.float32(0.016166534), np.float32(0.017185275), np.float32(0.017835172), np.float32(0.018525934), np.float32(0.022168892), np.float32(0.02547851), np.float32(0.026804961), np.float32(0.03224133), np.float32(0.035315417), np.float32(0.04026407), np.float32(0.040585797), np.float32(0.04462113), np.float32(0.04477816), np.float32(0.06723336), np.float32(0.06954367), np.float32(0.07957545), np.float32(0.2479737)]\n"
     ]
    }
   ],
   "source": [
    "print(sorted(feature_importances))"
   ]
  },
  {
   "cell_type": "code",
   "execution_count": 19,
   "metadata": {},
   "outputs": [
    {
     "name": "stdout",
     "output_type": "stream",
     "text": [
      "[0.01589015 0.00793137 0.01355052 0.01368617 0.5795639  0.00745706\n",
      " 0.0029441  0.00343742 0.03334339 0.00923766 0.0502879  0.00417837\n",
      " 0.01577997 0.00434425 0.01239127 0.00383699 0.02763657 0.00814536\n",
      " 0.00904108 0.04166509 0.00162657 0.00826819 0.0859943  0.00183002\n",
      " 0.0030467  0.         0.00346905 0.         0.00390308 0.01129876\n",
      " 0.00517512 0.00687651 0.00416308 0.        ]\n"
     ]
    },
    {
     "data": {
      "image/png": "[encoded data removed]",
      "text/plain": [
       "<Figure size 1000x600 with 1 Axes>"
      ]
     },
     "metadata": {},
     "output_type": "display_data"
    }
   ],
   "source": [
    "# HOLD Feature check \n",
    "model = XGBClassifier()\n",
    "model.fit(X_scaled, y_hold) #X_scaled_hold, y_train_smote_hold\n",
    "feature_importances = model.feature_importances_\n",
    "print(feature_importances)\n",
    "\n",
    "features = X_scaled.columns if hasattr(X_scaled, 'columns') else np.arange(len(feature_importances))\n",
    "\n",
    "plt.figure(figsize=(10, 6))\n",
    "plt.barh(features, feature_importances, color='skyblue')\n",
    "plt.xlabel(\"Feature Importance\")\n",
    "plt.ylabel(\"Features\")\n",
    "plt.title(\"Feature Importance in HOLD\")\n",
    "plt.xticks(np.arange(0, max(feature_importances) + 0.025, 0.025))  # 刻度間隔為 0.01\n",
    "plt.show()"
   ]
  },
  {
   "cell_type": "code",
   "execution_count": 20,
   "metadata": {},
   "outputs": [
    {
     "data": {
      "text/plain": [
       "'\\nX_scaled_years, X_test_scaled_years = standardize_data(X_train_smote_years, X_test)\\nX_scaled_level, X_test_scaled_level = standardize_data(X_train_smote_level, X_test)\\nX_scaled_gender, X_test_scaled_gender = standardize_data(X_train_smote_gender, X_test)\\nX_scaled_hold, X_test_scaled_hold = standardize_data(X_train_smote_hold, X_test)\\n'"
      ]
     },
     "execution_count": 20,
     "metadata": {},
     "output_type": "execute_result"
    }
   ],
   "source": [
    "'''\n",
    "X_scaled_years, X_test_scaled_years = standardize_data(X_train_smote_years, X_test)\n",
    "X_scaled_level, X_test_scaled_level = standardize_data(X_train_smote_level, X_test)\n",
    "X_scaled_gender, X_test_scaled_gender = standardize_data(X_train_smote_gender, X_test)\n",
    "X_scaled_hold, X_test_scaled_hold = standardize_data(X_train_smote_hold, X_test)\n",
    "'''"
   ]
  },
  {
   "cell_type": "code",
   "execution_count": 10,
   "metadata": {},
   "outputs": [],
   "source": [
    "play_years_model = XGBClassifier(\n",
    "    objective='multi:softmax', \n",
    "    num_class=3,\n",
    "    random_state = 42, \n",
    "    n_jobs = -1\n",
    ")\n",
    "play_years_model.fit(X_train_selected_years, y_play_years, verbose=100)\n",
    "\n",
    "y_pred_years = play_years_model.predict_proba(X_test_selected_years)\n",
    "\n",
    "level_model = XGBClassifier(\n",
    "    objective='multi:softmax', \n",
    "    num_class=3,\n",
    "    random_state = 42, \n",
    "    n_jobs=-1\n",
    ") \n",
    "level_model.fit(X_train_selected_level, y_level, verbose=100)\n",
    "\n",
    "y_pred_level = level_model.predict_proba(X_test_selected_level)"
   ]
  },
  {
   "cell_type": "code",
   "execution_count": 11,
   "metadata": {},
   "outputs": [],
   "source": [
    "gender_model = XGBClassifier(\n",
    "    objective='multi:softmax', \n",
    "    num_class=2,\n",
    "    random_state = 42, \n",
    "    n_jobs = -1\n",
    ") \n",
    "gender_model.fit(X_train_selected_gender, y_gender, verbose=True)\n",
    "\n",
    "y_pred_gender = gender_model.predict_proba(X_test_selected_gender)\n",
    "\n",
    "hold_model = XGBClassifier(\n",
    "    objective='multi:softmax', \n",
    "    num_class=2,\n",
    "    random_state = 42, \n",
    "    n_jobs=-1\n",
    ")\n",
    "hold_model.fit(X_train_selected_hold, y_hold, verbose=True)\n",
    "\n",
    "y_pred_hold = hold_model.predict_proba(X_test_selected_hold)"
   ]
  },
  {
   "cell_type": "code",
   "execution_count": 18,
   "metadata": {},
   "outputs": [
    {
     "name": "stdout",
     "output_type": "stream",
     "text": [
      "0    0.290070\n",
      "1    0.000266\n",
      "2    0.000858\n",
      "3    0.003694\n",
      "4    0.015656\n",
      "Name: gender, dtype: float64\n",
      "    level_0   level_1   level_2\n",
      "0  0.798867  0.003395  0.197738\n",
      "1  0.005729  0.000667  0.993605\n",
      "2  0.007909  0.000010  0.992081\n",
      "3  0.013019  0.000016  0.986965\n",
      "4  0.016404  0.000015  0.983581\n",
      "   play years_0  play years_1  play years_2\n",
      "0      0.055348      0.887812      0.056841\n",
      "1      0.999700      0.000263      0.000038\n",
      "2      0.997482      0.001163      0.001355\n",
      "3      0.999013      0.000586      0.000401\n",
      "4      0.996647      0.002248      0.001105\n"
     ]
    }
   ],
   "source": [
    "cat_gender = pd.read_csv('./catboost_bayesian_logs/gender_submission.csv')\n",
    "print(cat_gender['gender'].head(5))\n",
    "cat_level = pd.read_csv('./catboost_bayesian_logs/level_submission.csv')\n",
    "print(cat_level.head(5))\n",
    "cat_play_years = pd.read_csv('./catboost_bayesian_logs/play_years_submission.csv')\n",
    "print(cat_play_years.head(5))"
   ]
  },
  {
   "cell_type": "code",
   "execution_count": 23,
   "metadata": {},
   "outputs": [],
   "source": [
    "submission = pd.DataFrame({\n",
    "    'data_ID': test_data['data_ID'],\n",
    "    'gender': y_pred_gender[:, 1],\n",
    "    'hold racket handed': y_pred_hold[:, 1],\n",
    "    'play years_0': cat_play_years['play years_0'],\n",
    "    'play years_1': cat_play_years['play years_1'],\n",
    "    'play years_2': cat_play_years['play years_2'],\n",
    "    'level_0': cat_level['level_0'],\n",
    "    'level_1': cat_level['level_1'],\n",
    "    'level_2': cat_level['level_2']\n",
    "})\n",
    "\n",
    "# 儲存提交檔案\n",
    "submission.to_csv('submission.csv', index=False)"
   ]
  },
  {
   "cell_type": "markdown",
   "metadata": {},
   "source": [
    "# 一般資料處理"
   ]
  },
  {
   "cell_type": "code",
   "execution_count": null,
   "metadata": {},
   "outputs": [],
   "source": [
    "train_data = pd.read_csv('train.csv')\n",
    "test_data = pd.read_csv('test.csv')\n",
    "\n",
    "X = train_data.drop(columns=['data_ID', 'player_ID', 'gender', 'play years', 'hold racket handed', 'level'])\n",
    "X_test = test_data.drop(columns=['data_ID'])\n",
    "\n",
    "y_play_years = train_data['play years']\n",
    "y_level = train_data['level']\n",
    "y_gender = train_data['gender']\n",
    "y_hold= train_data['hold racket handed']\n",
    "\n",
    "# 合併資料進行正規化\n",
    "X_combined = pd.concat([X, X_test], axis=0)\n",
    "scaler = StandardScaler()\n",
    "X_combined_scaled = scaler.fit_transform(X_combined)\n",
    "\n",
    "# 將正規化後的數據拆分回訓練集和測試集\n",
    "X_scaled = X_combined_scaled[:len(X)]\n",
    "X_test_scaled = X_combined_scaled[len(X):]\n",
    "\n",
    "X_train_play_years, X_val_play_years, y_train_play_years, y_val_play_years = train_test_split(X_scaled, y_play_years, test_size=0.1, random_state=42)\n",
    "X_train_level, X_val_level, y_train_level, y_val_level = train_test_split(X_scaled, y_level, test_size=0.1, random_state=42)\n",
    "X_train_gender, X_val_gender, y_train_gender, y_val_gender = train_test_split(X_scaled, y_gender, test_size=0.1, random_state=42)\n",
    "X_train_hold, X_val_hold, y_train_hold, y_val_hold = train_test_split(X_scaled, y_hold, test_size=0.1, random_state=42)\n",
    "\n",
    "# 設定 K-fold 參數\n",
    "kf = KFold(n_splits=5, shuffle=True, random_state=42)"
   ]
  },
  {
   "cell_type": "code",
   "execution_count": null,
   "metadata": {},
   "outputs": [],
   "source": [
    "# 使用布林遮罩進行特徵篩選的函數\n",
    "def feature_selection(model, X_train, y_train, threshold=0.015):\n",
    "    model.fit(X_train, y_train)\n",
    "    feature_importances = model.feature_importances_\n",
    "    selected_features = X.columns[feature_importances > threshold]\n",
    "    return selected_features\n",
    "\n",
    "play_years_model = XGBClassifier(objective='multi:softmax', num_class=3, n_jobs=-1)#objective='multi:softprob', num_class=3\n",
    "selected_features_play_years = feature_selection(play_years_model, pd.DataFrame(X_scaled, columns=X.columns), y_play_years)\n",
    "\n",
    "X_train_play_years = pd.DataFrame(X_scaled, columns=X.columns)[selected_features_play_years]\n",
    "X_val_play_years = pd.DataFrame(X_val_play_years, columns=X.columns)[selected_features_play_years]\n",
    "X_test_play_years = pd.DataFrame(X_test_scaled, columns=X.columns)[selected_features_play_years]\n",
    "\n",
    "level_model = XGBClassifier(objective='multi:softmax', num_class=3, n_jobs=-1)#objective='multi:softprob', num_class=3\n",
    "selected_features_level = feature_selection(level_model, pd.DataFrame(X_scaled, columns=X.columns), y_level)\n",
    "\n",
    "X_train_level = pd.DataFrame(X_scaled, columns=X.columns)[selected_features_level]\n",
    "X_val_level = pd.DataFrame(X_val_level, columns=X.columns)[selected_features_level]\n",
    "X_test_level = pd.DataFrame(X_test_scaled, columns=X.columns)[selected_features_level]\n",
    "\n",
    "gender_model = XGBClassifier(objective='multi:softmax', num_class=2, n_jobs=-1)#objective='binary:logistic'\n",
    "selected_features_gender = feature_selection(gender_model, pd.DataFrame(X_scaled, columns=X.columns), y_gender)\n",
    "\n",
    "X_train_gender = pd.DataFrame(X_scaled, columns=X.columns)[selected_features_gender]\n",
    "X_val_gender = pd.DataFrame(X_val_gender, columns=X.columns)[selected_features_gender]\n",
    "X_test_gender = pd.DataFrame(X_test_scaled, columns=X.columns)[selected_features_gender]\n",
    "\n",
    "\n",
    "hold_model = XGBClassifier(objective='multi:softmax', num_class=2, n_jobs=-1)#objective='binary:logistic')\n",
    "selected_features_hold = feature_selection(hold_model, pd.DataFrame(X_scaled, columns=X.columns), y_hold)\n",
    "\n",
    "X_train_hold = pd.DataFrame(X_scaled, columns=X.columns)[selected_features_hold]\n",
    "X_val_hold = pd.DataFrame(X_val_hold, columns=X.columns)[selected_features_hold]\n",
    "X_test_hold = pd.DataFrame(X_test_scaled, columns=X.columns)[selected_features_hold]\n"
   ]
  },
  {
   "cell_type": "code",
   "execution_count": null,
   "metadata": {},
   "outputs": [
    {
     "ename": "KeyboardInterrupt",
     "evalue": "",
     "output_type": "error",
     "traceback": [
      "\u001b[0;31m---------------------------------------------------------------------------\u001b[0m",
      "\u001b[0;31mKeyboardInterrupt\u001b[0m                         Traceback (most recent call last)",
      "Cell \u001b[0;32mIn[38], line 31\u001b[0m\n\u001b[1;32m     28\u001b[0m         X_train_selected \u001b[38;5;241m=\u001b[39m pd\u001b[38;5;241m.\u001b[39mDataFrame(X_scaled, columns\u001b[38;5;241m=\u001b[39mX\u001b[38;5;241m.\u001b[39mcolumns)[selected_features]\n\u001b[1;32m     30\u001b[0m         \u001b[38;5;66;03m# 使用交叉驗證計算分數（例如 AUC 或準確率）\u001b[39;00m\n\u001b[0;32m---> 31\u001b[0m         score \u001b[38;5;241m=\u001b[39m \u001b[43mcross_val_score\u001b[49m\u001b[43m(\u001b[49m\u001b[43mmodel\u001b[49m\u001b[43m,\u001b[49m\u001b[43m \u001b[49m\u001b[43mX_train_selected\u001b[49m\u001b[43m,\u001b[49m\u001b[43m \u001b[49m\u001b[43my_train\u001b[49m\u001b[43m,\u001b[49m\u001b[43m \u001b[49m\u001b[43mcv\u001b[49m\u001b[38;5;241;43m=\u001b[39;49m\u001b[38;5;241;43m5\u001b[39;49m\u001b[43m,\u001b[49m\u001b[43m \u001b[49m\u001b[43mscoring\u001b[49m\u001b[38;5;241;43m=\u001b[39;49m\u001b[38;5;124;43m'\u001b[39;49m\u001b[38;5;124;43maccuracy\u001b[39;49m\u001b[38;5;124;43m'\u001b[39;49m\u001b[43m)\u001b[49m\u001b[38;5;241m.\u001b[39mmean()\n\u001b[1;32m     32\u001b[0m         results[name]\u001b[38;5;241m.\u001b[39mappend(score)\n\u001b[1;32m     34\u001b[0m \u001b[38;5;66;03m# 繪製每個模型的閾值 - 分數圖表\u001b[39;00m\n",
      "File \u001b[0;32m~/miniconda3/envs/tokyo/lib/python3.13/site-packages/sklearn/utils/_param_validation.py:213\u001b[0m, in \u001b[0;36mvalidate_params.<locals>.decorator.<locals>.wrapper\u001b[0;34m(*args, **kwargs)\u001b[0m\n\u001b[1;32m    207\u001b[0m \u001b[38;5;28;01mtry\u001b[39;00m:\n\u001b[1;32m    208\u001b[0m     \u001b[38;5;28;01mwith\u001b[39;00m config_context(\n\u001b[1;32m    209\u001b[0m         skip_parameter_validation\u001b[38;5;241m=\u001b[39m(\n\u001b[1;32m    210\u001b[0m             prefer_skip_nested_validation \u001b[38;5;129;01mor\u001b[39;00m global_skip_validation\n\u001b[1;32m    211\u001b[0m         )\n\u001b[1;32m    212\u001b[0m     ):\n\u001b[0;32m--> 213\u001b[0m         \u001b[38;5;28;01mreturn\u001b[39;00m \u001b[43mfunc\u001b[49m\u001b[43m(\u001b[49m\u001b[38;5;241;43m*\u001b[39;49m\u001b[43margs\u001b[49m\u001b[43m,\u001b[49m\u001b[43m \u001b[49m\u001b[38;5;241;43m*\u001b[39;49m\u001b[38;5;241;43m*\u001b[39;49m\u001b[43mkwargs\u001b[49m\u001b[43m)\u001b[49m\n\u001b[1;32m    214\u001b[0m \u001b[38;5;28;01mexcept\u001b[39;00m InvalidParameterError \u001b[38;5;28;01mas\u001b[39;00m e:\n\u001b[1;32m    215\u001b[0m     \u001b[38;5;66;03m# When the function is just a wrapper around an estimator, we allow\u001b[39;00m\n\u001b[1;32m    216\u001b[0m     \u001b[38;5;66;03m# the function to delegate validation to the estimator, but we replace\u001b[39;00m\n\u001b[1;32m    217\u001b[0m     \u001b[38;5;66;03m# the name of the estimator by the name of the function in the error\u001b[39;00m\n\u001b[1;32m    218\u001b[0m     \u001b[38;5;66;03m# message to avoid confusion.\u001b[39;00m\n\u001b[1;32m    219\u001b[0m     msg \u001b[38;5;241m=\u001b[39m re\u001b[38;5;241m.\u001b[39msub(\n\u001b[1;32m    220\u001b[0m         \u001b[38;5;124mr\u001b[39m\u001b[38;5;124m\"\u001b[39m\u001b[38;5;124mparameter of \u001b[39m\u001b[38;5;124m\\\u001b[39m\u001b[38;5;124mw+ must be\u001b[39m\u001b[38;5;124m\"\u001b[39m,\n\u001b[1;32m    221\u001b[0m         \u001b[38;5;124mf\u001b[39m\u001b[38;5;124m\"\u001b[39m\u001b[38;5;124mparameter of \u001b[39m\u001b[38;5;132;01m{\u001b[39;00mfunc\u001b[38;5;241m.\u001b[39m\u001b[38;5;18m__qualname__\u001b[39m\u001b[38;5;132;01m}\u001b[39;00m\u001b[38;5;124m must be\u001b[39m\u001b[38;5;124m\"\u001b[39m,\n\u001b[1;32m    222\u001b[0m         \u001b[38;5;28mstr\u001b[39m(e),\n\u001b[1;32m    223\u001b[0m     )\n",
      "File \u001b[0;32m~/miniconda3/envs/tokyo/lib/python3.13/site-packages/sklearn/model_selection/_validation.py:712\u001b[0m, in \u001b[0;36mcross_val_score\u001b[0;34m(estimator, X, y, groups, scoring, cv, n_jobs, verbose, fit_params, params, pre_dispatch, error_score)\u001b[0m\n\u001b[1;32m    709\u001b[0m \u001b[38;5;66;03m# To ensure multimetric format is not supported\u001b[39;00m\n\u001b[1;32m    710\u001b[0m scorer \u001b[38;5;241m=\u001b[39m check_scoring(estimator, scoring\u001b[38;5;241m=\u001b[39mscoring)\n\u001b[0;32m--> 712\u001b[0m cv_results \u001b[38;5;241m=\u001b[39m \u001b[43mcross_validate\u001b[49m\u001b[43m(\u001b[49m\n\u001b[1;32m    713\u001b[0m \u001b[43m    \u001b[49m\u001b[43mestimator\u001b[49m\u001b[38;5;241;43m=\u001b[39;49m\u001b[43mestimator\u001b[49m\u001b[43m,\u001b[49m\n\u001b[1;32m    714\u001b[0m \u001b[43m    \u001b[49m\u001b[43mX\u001b[49m\u001b[38;5;241;43m=\u001b[39;49m\u001b[43mX\u001b[49m\u001b[43m,\u001b[49m\n\u001b[1;32m    715\u001b[0m \u001b[43m    \u001b[49m\u001b[43my\u001b[49m\u001b[38;5;241;43m=\u001b[39;49m\u001b[43my\u001b[49m\u001b[43m,\u001b[49m\n\u001b[1;32m    716\u001b[0m \u001b[43m    \u001b[49m\u001b[43mgroups\u001b[49m\u001b[38;5;241;43m=\u001b[39;49m\u001b[43mgroups\u001b[49m\u001b[43m,\u001b[49m\n\u001b[1;32m    717\u001b[0m \u001b[43m    \u001b[49m\u001b[43mscoring\u001b[49m\u001b[38;5;241;43m=\u001b[39;49m\u001b[43m{\u001b[49m\u001b[38;5;124;43m\"\u001b[39;49m\u001b[38;5;124;43mscore\u001b[39;49m\u001b[38;5;124;43m\"\u001b[39;49m\u001b[43m:\u001b[49m\u001b[43m \u001b[49m\u001b[43mscorer\u001b[49m\u001b[43m}\u001b[49m\u001b[43m,\u001b[49m\n\u001b[1;32m    718\u001b[0m \u001b[43m    \u001b[49m\u001b[43mcv\u001b[49m\u001b[38;5;241;43m=\u001b[39;49m\u001b[43mcv\u001b[49m\u001b[43m,\u001b[49m\n\u001b[1;32m    719\u001b[0m \u001b[43m    \u001b[49m\u001b[43mn_jobs\u001b[49m\u001b[38;5;241;43m=\u001b[39;49m\u001b[43mn_jobs\u001b[49m\u001b[43m,\u001b[49m\n\u001b[1;32m    720\u001b[0m \u001b[43m    \u001b[49m\u001b[43mverbose\u001b[49m\u001b[38;5;241;43m=\u001b[39;49m\u001b[43mverbose\u001b[49m\u001b[43m,\u001b[49m\n\u001b[1;32m    721\u001b[0m \u001b[43m    \u001b[49m\u001b[43mfit_params\u001b[49m\u001b[38;5;241;43m=\u001b[39;49m\u001b[43mfit_params\u001b[49m\u001b[43m,\u001b[49m\n\u001b[1;32m    722\u001b[0m \u001b[43m    \u001b[49m\u001b[43mparams\u001b[49m\u001b[38;5;241;43m=\u001b[39;49m\u001b[43mparams\u001b[49m\u001b[43m,\u001b[49m\n\u001b[1;32m    723\u001b[0m \u001b[43m    \u001b[49m\u001b[43mpre_dispatch\u001b[49m\u001b[38;5;241;43m=\u001b[39;49m\u001b[43mpre_dispatch\u001b[49m\u001b[43m,\u001b[49m\n\u001b[1;32m    724\u001b[0m \u001b[43m    \u001b[49m\u001b[43merror_score\u001b[49m\u001b[38;5;241;43m=\u001b[39;49m\u001b[43merror_score\u001b[49m\u001b[43m,\u001b[49m\n\u001b[1;32m    725\u001b[0m \u001b[43m\u001b[49m\u001b[43m)\u001b[49m\n\u001b[1;32m    726\u001b[0m \u001b[38;5;28;01mreturn\u001b[39;00m cv_results[\u001b[38;5;124m\"\u001b[39m\u001b[38;5;124mtest_score\u001b[39m\u001b[38;5;124m\"\u001b[39m]\n",
      "File \u001b[0;32m~/miniconda3/envs/tokyo/lib/python3.13/site-packages/sklearn/utils/_param_validation.py:213\u001b[0m, in \u001b[0;36mvalidate_params.<locals>.decorator.<locals>.wrapper\u001b[0;34m(*args, **kwargs)\u001b[0m\n\u001b[1;32m    207\u001b[0m \u001b[38;5;28;01mtry\u001b[39;00m:\n\u001b[1;32m    208\u001b[0m     \u001b[38;5;28;01mwith\u001b[39;00m config_context(\n\u001b[1;32m    209\u001b[0m         skip_parameter_validation\u001b[38;5;241m=\u001b[39m(\n\u001b[1;32m    210\u001b[0m             prefer_skip_nested_validation \u001b[38;5;129;01mor\u001b[39;00m global_skip_validation\n\u001b[1;32m    211\u001b[0m         )\n\u001b[1;32m    212\u001b[0m     ):\n\u001b[0;32m--> 213\u001b[0m         \u001b[38;5;28;01mreturn\u001b[39;00m \u001b[43mfunc\u001b[49m\u001b[43m(\u001b[49m\u001b[38;5;241;43m*\u001b[39;49m\u001b[43margs\u001b[49m\u001b[43m,\u001b[49m\u001b[43m \u001b[49m\u001b[38;5;241;43m*\u001b[39;49m\u001b[38;5;241;43m*\u001b[39;49m\u001b[43mkwargs\u001b[49m\u001b[43m)\u001b[49m\n\u001b[1;32m    214\u001b[0m \u001b[38;5;28;01mexcept\u001b[39;00m InvalidParameterError \u001b[38;5;28;01mas\u001b[39;00m e:\n\u001b[1;32m    215\u001b[0m     \u001b[38;5;66;03m# When the function is just a wrapper around an estimator, we allow\u001b[39;00m\n\u001b[1;32m    216\u001b[0m     \u001b[38;5;66;03m# the function to delegate validation to the estimator, but we replace\u001b[39;00m\n\u001b[1;32m    217\u001b[0m     \u001b[38;5;66;03m# the name of the estimator by the name of the function in the error\u001b[39;00m\n\u001b[1;32m    218\u001b[0m     \u001b[38;5;66;03m# message to avoid confusion.\u001b[39;00m\n\u001b[1;32m    219\u001b[0m     msg \u001b[38;5;241m=\u001b[39m re\u001b[38;5;241m.\u001b[39msub(\n\u001b[1;32m    220\u001b[0m         \u001b[38;5;124mr\u001b[39m\u001b[38;5;124m\"\u001b[39m\u001b[38;5;124mparameter of \u001b[39m\u001b[38;5;124m\\\u001b[39m\u001b[38;5;124mw+ must be\u001b[39m\u001b[38;5;124m\"\u001b[39m,\n\u001b[1;32m    221\u001b[0m         \u001b[38;5;124mf\u001b[39m\u001b[38;5;124m\"\u001b[39m\u001b[38;5;124mparameter of \u001b[39m\u001b[38;5;132;01m{\u001b[39;00mfunc\u001b[38;5;241m.\u001b[39m\u001b[38;5;18m__qualname__\u001b[39m\u001b[38;5;132;01m}\u001b[39;00m\u001b[38;5;124m must be\u001b[39m\u001b[38;5;124m\"\u001b[39m,\n\u001b[1;32m    222\u001b[0m         \u001b[38;5;28mstr\u001b[39m(e),\n\u001b[1;32m    223\u001b[0m     )\n",
      "File \u001b[0;32m~/miniconda3/envs/tokyo/lib/python3.13/site-packages/sklearn/model_selection/_validation.py:423\u001b[0m, in \u001b[0;36mcross_validate\u001b[0;34m(estimator, X, y, groups, scoring, cv, n_jobs, verbose, fit_params, params, pre_dispatch, return_train_score, return_estimator, return_indices, error_score)\u001b[0m\n\u001b[1;32m    420\u001b[0m \u001b[38;5;66;03m# We clone the estimator to make sure that all the folds are\u001b[39;00m\n\u001b[1;32m    421\u001b[0m \u001b[38;5;66;03m# independent, and that it is pickle-able.\u001b[39;00m\n\u001b[1;32m    422\u001b[0m parallel \u001b[38;5;241m=\u001b[39m Parallel(n_jobs\u001b[38;5;241m=\u001b[39mn_jobs, verbose\u001b[38;5;241m=\u001b[39mverbose, pre_dispatch\u001b[38;5;241m=\u001b[39mpre_dispatch)\n\u001b[0;32m--> 423\u001b[0m results \u001b[38;5;241m=\u001b[39m \u001b[43mparallel\u001b[49m\u001b[43m(\u001b[49m\n\u001b[1;32m    424\u001b[0m \u001b[43m    \u001b[49m\u001b[43mdelayed\u001b[49m\u001b[43m(\u001b[49m\u001b[43m_fit_and_score\u001b[49m\u001b[43m)\u001b[49m\u001b[43m(\u001b[49m\n\u001b[1;32m    425\u001b[0m \u001b[43m        \u001b[49m\u001b[43mclone\u001b[49m\u001b[43m(\u001b[49m\u001b[43mestimator\u001b[49m\u001b[43m)\u001b[49m\u001b[43m,\u001b[49m\n\u001b[1;32m    426\u001b[0m \u001b[43m        \u001b[49m\u001b[43mX\u001b[49m\u001b[43m,\u001b[49m\n\u001b[1;32m    427\u001b[0m \u001b[43m        \u001b[49m\u001b[43my\u001b[49m\u001b[43m,\u001b[49m\n\u001b[1;32m    428\u001b[0m \u001b[43m        \u001b[49m\u001b[43mscorer\u001b[49m\u001b[38;5;241;43m=\u001b[39;49m\u001b[43mscorers\u001b[49m\u001b[43m,\u001b[49m\n\u001b[1;32m    429\u001b[0m \u001b[43m        \u001b[49m\u001b[43mtrain\u001b[49m\u001b[38;5;241;43m=\u001b[39;49m\u001b[43mtrain\u001b[49m\u001b[43m,\u001b[49m\n\u001b[1;32m    430\u001b[0m \u001b[43m        \u001b[49m\u001b[43mtest\u001b[49m\u001b[38;5;241;43m=\u001b[39;49m\u001b[43mtest\u001b[49m\u001b[43m,\u001b[49m\n\u001b[1;32m    431\u001b[0m \u001b[43m        \u001b[49m\u001b[43mverbose\u001b[49m\u001b[38;5;241;43m=\u001b[39;49m\u001b[43mverbose\u001b[49m\u001b[43m,\u001b[49m\n\u001b[1;32m    432\u001b[0m \u001b[43m        \u001b[49m\u001b[43mparameters\u001b[49m\u001b[38;5;241;43m=\u001b[39;49m\u001b[38;5;28;43;01mNone\u001b[39;49;00m\u001b[43m,\u001b[49m\n\u001b[1;32m    433\u001b[0m \u001b[43m        \u001b[49m\u001b[43mfit_params\u001b[49m\u001b[38;5;241;43m=\u001b[39;49m\u001b[43mrouted_params\u001b[49m\u001b[38;5;241;43m.\u001b[39;49m\u001b[43mestimator\u001b[49m\u001b[38;5;241;43m.\u001b[39;49m\u001b[43mfit\u001b[49m\u001b[43m,\u001b[49m\n\u001b[1;32m    434\u001b[0m \u001b[43m        \u001b[49m\u001b[43mscore_params\u001b[49m\u001b[38;5;241;43m=\u001b[39;49m\u001b[43mrouted_params\u001b[49m\u001b[38;5;241;43m.\u001b[39;49m\u001b[43mscorer\u001b[49m\u001b[38;5;241;43m.\u001b[39;49m\u001b[43mscore\u001b[49m\u001b[43m,\u001b[49m\n\u001b[1;32m    435\u001b[0m \u001b[43m        \u001b[49m\u001b[43mreturn_train_score\u001b[49m\u001b[38;5;241;43m=\u001b[39;49m\u001b[43mreturn_train_score\u001b[49m\u001b[43m,\u001b[49m\n\u001b[1;32m    436\u001b[0m \u001b[43m        \u001b[49m\u001b[43mreturn_times\u001b[49m\u001b[38;5;241;43m=\u001b[39;49m\u001b[38;5;28;43;01mTrue\u001b[39;49;00m\u001b[43m,\u001b[49m\n\u001b[1;32m    437\u001b[0m \u001b[43m        \u001b[49m\u001b[43mreturn_estimator\u001b[49m\u001b[38;5;241;43m=\u001b[39;49m\u001b[43mreturn_estimator\u001b[49m\u001b[43m,\u001b[49m\n\u001b[1;32m    438\u001b[0m \u001b[43m        \u001b[49m\u001b[43merror_score\u001b[49m\u001b[38;5;241;43m=\u001b[39;49m\u001b[43merror_score\u001b[49m\u001b[43m,\u001b[49m\n\u001b[1;32m    439\u001b[0m \u001b[43m    \u001b[49m\u001b[43m)\u001b[49m\n\u001b[1;32m    440\u001b[0m \u001b[43m    \u001b[49m\u001b[38;5;28;43;01mfor\u001b[39;49;00m\u001b[43m \u001b[49m\u001b[43mtrain\u001b[49m\u001b[43m,\u001b[49m\u001b[43m \u001b[49m\u001b[43mtest\u001b[49m\u001b[43m \u001b[49m\u001b[38;5;129;43;01min\u001b[39;49;00m\u001b[43m \u001b[49m\u001b[43mindices\u001b[49m\n\u001b[1;32m    441\u001b[0m \u001b[43m\u001b[49m\u001b[43m)\u001b[49m\n\u001b[1;32m    443\u001b[0m _warn_or_raise_about_fit_failures(results, error_score)\n\u001b[1;32m    445\u001b[0m \u001b[38;5;66;03m# For callable scoring, the return type is only know after calling. If the\u001b[39;00m\n\u001b[1;32m    446\u001b[0m \u001b[38;5;66;03m# return type is a dictionary, the error scores can now be inserted with\u001b[39;00m\n\u001b[1;32m    447\u001b[0m \u001b[38;5;66;03m# the correct key.\u001b[39;00m\n",
      "File \u001b[0;32m~/miniconda3/envs/tokyo/lib/python3.13/site-packages/sklearn/utils/parallel.py:74\u001b[0m, in \u001b[0;36mParallel.__call__\u001b[0;34m(self, iterable)\u001b[0m\n\u001b[1;32m     69\u001b[0m config \u001b[38;5;241m=\u001b[39m get_config()\n\u001b[1;32m     70\u001b[0m iterable_with_config \u001b[38;5;241m=\u001b[39m (\n\u001b[1;32m     71\u001b[0m     (_with_config(delayed_func, config), args, kwargs)\n\u001b[1;32m     72\u001b[0m     \u001b[38;5;28;01mfor\u001b[39;00m delayed_func, args, kwargs \u001b[38;5;129;01min\u001b[39;00m iterable\n\u001b[1;32m     73\u001b[0m )\n\u001b[0;32m---> 74\u001b[0m \u001b[38;5;28;01mreturn\u001b[39;00m \u001b[38;5;28;43msuper\u001b[39;49m\u001b[43m(\u001b[49m\u001b[43m)\u001b[49m\u001b[38;5;241;43m.\u001b[39;49m\u001b[38;5;21;43m__call__\u001b[39;49m\u001b[43m(\u001b[49m\u001b[43miterable_with_config\u001b[49m\u001b[43m)\u001b[49m\n",
      "File \u001b[0;32m~/miniconda3/envs/tokyo/lib/python3.13/site-packages/joblib/parallel.py:1918\u001b[0m, in \u001b[0;36mParallel.__call__\u001b[0;34m(self, iterable)\u001b[0m\n\u001b[1;32m   1916\u001b[0m     output \u001b[38;5;241m=\u001b[39m \u001b[38;5;28mself\u001b[39m\u001b[38;5;241m.\u001b[39m_get_sequential_output(iterable)\n\u001b[1;32m   1917\u001b[0m     \u001b[38;5;28mnext\u001b[39m(output)\n\u001b[0;32m-> 1918\u001b[0m     \u001b[38;5;28;01mreturn\u001b[39;00m output \u001b[38;5;28;01mif\u001b[39;00m \u001b[38;5;28mself\u001b[39m\u001b[38;5;241m.\u001b[39mreturn_generator \u001b[38;5;28;01melse\u001b[39;00m \u001b[38;5;28;43mlist\u001b[39;49m\u001b[43m(\u001b[49m\u001b[43moutput\u001b[49m\u001b[43m)\u001b[49m\n\u001b[1;32m   1920\u001b[0m \u001b[38;5;66;03m# Let's create an ID that uniquely identifies the current call. If the\u001b[39;00m\n\u001b[1;32m   1921\u001b[0m \u001b[38;5;66;03m# call is interrupted early and that the same instance is immediately\u001b[39;00m\n\u001b[1;32m   1922\u001b[0m \u001b[38;5;66;03m# re-used, this id will be used to prevent workers that were\u001b[39;00m\n\u001b[1;32m   1923\u001b[0m \u001b[38;5;66;03m# concurrently finalizing a task from the previous call to run the\u001b[39;00m\n\u001b[1;32m   1924\u001b[0m \u001b[38;5;66;03m# callback.\u001b[39;00m\n\u001b[1;32m   1925\u001b[0m \u001b[38;5;28;01mwith\u001b[39;00m \u001b[38;5;28mself\u001b[39m\u001b[38;5;241m.\u001b[39m_lock:\n",
      "File \u001b[0;32m~/miniconda3/envs/tokyo/lib/python3.13/site-packages/joblib/parallel.py:1847\u001b[0m, in \u001b[0;36mParallel._get_sequential_output\u001b[0;34m(self, iterable)\u001b[0m\n\u001b[1;32m   1845\u001b[0m \u001b[38;5;28mself\u001b[39m\u001b[38;5;241m.\u001b[39mn_dispatched_batches \u001b[38;5;241m+\u001b[39m\u001b[38;5;241m=\u001b[39m \u001b[38;5;241m1\u001b[39m\n\u001b[1;32m   1846\u001b[0m \u001b[38;5;28mself\u001b[39m\u001b[38;5;241m.\u001b[39mn_dispatched_tasks \u001b[38;5;241m+\u001b[39m\u001b[38;5;241m=\u001b[39m \u001b[38;5;241m1\u001b[39m\n\u001b[0;32m-> 1847\u001b[0m res \u001b[38;5;241m=\u001b[39m \u001b[43mfunc\u001b[49m\u001b[43m(\u001b[49m\u001b[38;5;241;43m*\u001b[39;49m\u001b[43margs\u001b[49m\u001b[43m,\u001b[49m\u001b[43m \u001b[49m\u001b[38;5;241;43m*\u001b[39;49m\u001b[38;5;241;43m*\u001b[39;49m\u001b[43mkwargs\u001b[49m\u001b[43m)\u001b[49m\n\u001b[1;32m   1848\u001b[0m \u001b[38;5;28mself\u001b[39m\u001b[38;5;241m.\u001b[39mn_completed_tasks \u001b[38;5;241m+\u001b[39m\u001b[38;5;241m=\u001b[39m \u001b[38;5;241m1\u001b[39m\n\u001b[1;32m   1849\u001b[0m \u001b[38;5;28mself\u001b[39m\u001b[38;5;241m.\u001b[39mprint_progress()\n",
      "File \u001b[0;32m~/miniconda3/envs/tokyo/lib/python3.13/site-packages/sklearn/utils/parallel.py:136\u001b[0m, in \u001b[0;36m_FuncWrapper.__call__\u001b[0;34m(self, *args, **kwargs)\u001b[0m\n\u001b[1;32m    134\u001b[0m     config \u001b[38;5;241m=\u001b[39m {}\n\u001b[1;32m    135\u001b[0m \u001b[38;5;28;01mwith\u001b[39;00m config_context(\u001b[38;5;241m*\u001b[39m\u001b[38;5;241m*\u001b[39mconfig):\n\u001b[0;32m--> 136\u001b[0m     \u001b[38;5;28;01mreturn\u001b[39;00m \u001b[38;5;28;43mself\u001b[39;49m\u001b[38;5;241;43m.\u001b[39;49m\u001b[43mfunction\u001b[49m\u001b[43m(\u001b[49m\u001b[38;5;241;43m*\u001b[39;49m\u001b[43margs\u001b[49m\u001b[43m,\u001b[49m\u001b[43m \u001b[49m\u001b[38;5;241;43m*\u001b[39;49m\u001b[38;5;241;43m*\u001b[39;49m\u001b[43mkwargs\u001b[49m\u001b[43m)\u001b[49m\n",
      "File \u001b[0;32m~/miniconda3/envs/tokyo/lib/python3.13/site-packages/sklearn/model_selection/_validation.py:888\u001b[0m, in \u001b[0;36m_fit_and_score\u001b[0;34m(estimator, X, y, scorer, train, test, verbose, parameters, fit_params, score_params, return_train_score, return_parameters, return_n_test_samples, return_times, return_estimator, split_progress, candidate_progress, error_score)\u001b[0m\n\u001b[1;32m    886\u001b[0m         estimator\u001b[38;5;241m.\u001b[39mfit(X_train, \u001b[38;5;241m*\u001b[39m\u001b[38;5;241m*\u001b[39mfit_params)\n\u001b[1;32m    887\u001b[0m     \u001b[38;5;28;01melse\u001b[39;00m:\n\u001b[0;32m--> 888\u001b[0m         \u001b[43mestimator\u001b[49m\u001b[38;5;241;43m.\u001b[39;49m\u001b[43mfit\u001b[49m\u001b[43m(\u001b[49m\u001b[43mX_train\u001b[49m\u001b[43m,\u001b[49m\u001b[43m \u001b[49m\u001b[43my_train\u001b[49m\u001b[43m,\u001b[49m\u001b[43m \u001b[49m\u001b[38;5;241;43m*\u001b[39;49m\u001b[38;5;241;43m*\u001b[39;49m\u001b[43mfit_params\u001b[49m\u001b[43m)\u001b[49m\n\u001b[1;32m    890\u001b[0m \u001b[38;5;28;01mexcept\u001b[39;00m \u001b[38;5;167;01mException\u001b[39;00m:\n\u001b[1;32m    891\u001b[0m     \u001b[38;5;66;03m# Note fit time as time until error\u001b[39;00m\n\u001b[1;32m    892\u001b[0m     fit_time \u001b[38;5;241m=\u001b[39m time\u001b[38;5;241m.\u001b[39mtime() \u001b[38;5;241m-\u001b[39m start_time\n",
      "File \u001b[0;32m~/miniconda3/envs/tokyo/lib/python3.13/site-packages/xgboost/core.py:726\u001b[0m, in \u001b[0;36mrequire_keyword_args.<locals>.throw_if.<locals>.inner_f\u001b[0;34m(*args, **kwargs)\u001b[0m\n\u001b[1;32m    724\u001b[0m \u001b[38;5;28;01mfor\u001b[39;00m k, arg \u001b[38;5;129;01min\u001b[39;00m \u001b[38;5;28mzip\u001b[39m(sig\u001b[38;5;241m.\u001b[39mparameters, args):\n\u001b[1;32m    725\u001b[0m     kwargs[k] \u001b[38;5;241m=\u001b[39m arg\n\u001b[0;32m--> 726\u001b[0m \u001b[38;5;28;01mreturn\u001b[39;00m \u001b[43mfunc\u001b[49m\u001b[43m(\u001b[49m\u001b[38;5;241;43m*\u001b[39;49m\u001b[38;5;241;43m*\u001b[39;49m\u001b[43mkwargs\u001b[49m\u001b[43m)\u001b[49m\n",
      "File \u001b[0;32m~/miniconda3/envs/tokyo/lib/python3.13/site-packages/xgboost/sklearn.py:1531\u001b[0m, in \u001b[0;36mXGBClassifier.fit\u001b[0;34m(self, X, y, sample_weight, base_margin, eval_set, verbose, xgb_model, sample_weight_eval_set, base_margin_eval_set, feature_weights)\u001b[0m\n\u001b[1;32m   1511\u001b[0m model, metric, params \u001b[38;5;241m=\u001b[39m \u001b[38;5;28mself\u001b[39m\u001b[38;5;241m.\u001b[39m_configure_fit(xgb_model, params)\n\u001b[1;32m   1512\u001b[0m train_dmatrix, evals \u001b[38;5;241m=\u001b[39m _wrap_evaluation_matrices(\n\u001b[1;32m   1513\u001b[0m     missing\u001b[38;5;241m=\u001b[39m\u001b[38;5;28mself\u001b[39m\u001b[38;5;241m.\u001b[39mmissing,\n\u001b[1;32m   1514\u001b[0m     X\u001b[38;5;241m=\u001b[39mX,\n\u001b[0;32m   (...)\u001b[0m\n\u001b[1;32m   1528\u001b[0m     feature_types\u001b[38;5;241m=\u001b[39m\u001b[38;5;28mself\u001b[39m\u001b[38;5;241m.\u001b[39mfeature_types,\n\u001b[1;32m   1529\u001b[0m )\n\u001b[0;32m-> 1531\u001b[0m \u001b[38;5;28mself\u001b[39m\u001b[38;5;241m.\u001b[39m_Booster \u001b[38;5;241m=\u001b[39m \u001b[43mtrain\u001b[49m\u001b[43m(\u001b[49m\n\u001b[1;32m   1532\u001b[0m \u001b[43m    \u001b[49m\u001b[43mparams\u001b[49m\u001b[43m,\u001b[49m\n\u001b[1;32m   1533\u001b[0m \u001b[43m    \u001b[49m\u001b[43mtrain_dmatrix\u001b[49m\u001b[43m,\u001b[49m\n\u001b[1;32m   1534\u001b[0m \u001b[43m    \u001b[49m\u001b[38;5;28;43mself\u001b[39;49m\u001b[38;5;241;43m.\u001b[39;49m\u001b[43mget_num_boosting_rounds\u001b[49m\u001b[43m(\u001b[49m\u001b[43m)\u001b[49m\u001b[43m,\u001b[49m\n\u001b[1;32m   1535\u001b[0m \u001b[43m    \u001b[49m\u001b[43mevals\u001b[49m\u001b[38;5;241;43m=\u001b[39;49m\u001b[43mevals\u001b[49m\u001b[43m,\u001b[49m\n\u001b[1;32m   1536\u001b[0m \u001b[43m    \u001b[49m\u001b[43mearly_stopping_rounds\u001b[49m\u001b[38;5;241;43m=\u001b[39;49m\u001b[38;5;28;43mself\u001b[39;49m\u001b[38;5;241;43m.\u001b[39;49m\u001b[43mearly_stopping_rounds\u001b[49m\u001b[43m,\u001b[49m\n\u001b[1;32m   1537\u001b[0m \u001b[43m    \u001b[49m\u001b[43mevals_result\u001b[49m\u001b[38;5;241;43m=\u001b[39;49m\u001b[43mevals_result\u001b[49m\u001b[43m,\u001b[49m\n\u001b[1;32m   1538\u001b[0m \u001b[43m    \u001b[49m\u001b[43mobj\u001b[49m\u001b[38;5;241;43m=\u001b[39;49m\u001b[43mobj\u001b[49m\u001b[43m,\u001b[49m\n\u001b[1;32m   1539\u001b[0m \u001b[43m    \u001b[49m\u001b[43mcustom_metric\u001b[49m\u001b[38;5;241;43m=\u001b[39;49m\u001b[43mmetric\u001b[49m\u001b[43m,\u001b[49m\n\u001b[1;32m   1540\u001b[0m \u001b[43m    \u001b[49m\u001b[43mverbose_eval\u001b[49m\u001b[38;5;241;43m=\u001b[39;49m\u001b[43mverbose\u001b[49m\u001b[43m,\u001b[49m\n\u001b[1;32m   1541\u001b[0m \u001b[43m    \u001b[49m\u001b[43mxgb_model\u001b[49m\u001b[38;5;241;43m=\u001b[39;49m\u001b[43mmodel\u001b[49m\u001b[43m,\u001b[49m\n\u001b[1;32m   1542\u001b[0m \u001b[43m    \u001b[49m\u001b[43mcallbacks\u001b[49m\u001b[38;5;241;43m=\u001b[39;49m\u001b[38;5;28;43mself\u001b[39;49m\u001b[38;5;241;43m.\u001b[39;49m\u001b[43mcallbacks\u001b[49m\u001b[43m,\u001b[49m\n\u001b[1;32m   1543\u001b[0m \u001b[43m\u001b[49m\u001b[43m)\u001b[49m\n\u001b[1;32m   1545\u001b[0m \u001b[38;5;28;01mif\u001b[39;00m \u001b[38;5;129;01mnot\u001b[39;00m \u001b[38;5;28mcallable\u001b[39m(\u001b[38;5;28mself\u001b[39m\u001b[38;5;241m.\u001b[39mobjective):\n\u001b[1;32m   1546\u001b[0m     \u001b[38;5;28mself\u001b[39m\u001b[38;5;241m.\u001b[39mobjective \u001b[38;5;241m=\u001b[39m params[\u001b[38;5;124m\"\u001b[39m\u001b[38;5;124mobjective\u001b[39m\u001b[38;5;124m\"\u001b[39m]\n",
      "File \u001b[0;32m~/miniconda3/envs/tokyo/lib/python3.13/site-packages/xgboost/core.py:726\u001b[0m, in \u001b[0;36mrequire_keyword_args.<locals>.throw_if.<locals>.inner_f\u001b[0;34m(*args, **kwargs)\u001b[0m\n\u001b[1;32m    724\u001b[0m \u001b[38;5;28;01mfor\u001b[39;00m k, arg \u001b[38;5;129;01min\u001b[39;00m \u001b[38;5;28mzip\u001b[39m(sig\u001b[38;5;241m.\u001b[39mparameters, args):\n\u001b[1;32m    725\u001b[0m     kwargs[k] \u001b[38;5;241m=\u001b[39m arg\n\u001b[0;32m--> 726\u001b[0m \u001b[38;5;28;01mreturn\u001b[39;00m \u001b[43mfunc\u001b[49m\u001b[43m(\u001b[49m\u001b[38;5;241;43m*\u001b[39;49m\u001b[38;5;241;43m*\u001b[39;49m\u001b[43mkwargs\u001b[49m\u001b[43m)\u001b[49m\n",
      "File \u001b[0;32m~/miniconda3/envs/tokyo/lib/python3.13/site-packages/xgboost/training.py:181\u001b[0m, in \u001b[0;36mtrain\u001b[0;34m(params, dtrain, num_boost_round, evals, obj, feval, maximize, early_stopping_rounds, evals_result, verbose_eval, xgb_model, callbacks, custom_metric)\u001b[0m\n\u001b[1;32m    179\u001b[0m \u001b[38;5;28;01mif\u001b[39;00m cb_container\u001b[38;5;241m.\u001b[39mbefore_iteration(bst, i, dtrain, evals):\n\u001b[1;32m    180\u001b[0m     \u001b[38;5;28;01mbreak\u001b[39;00m\n\u001b[0;32m--> 181\u001b[0m \u001b[43mbst\u001b[49m\u001b[38;5;241;43m.\u001b[39;49m\u001b[43mupdate\u001b[49m\u001b[43m(\u001b[49m\u001b[43mdtrain\u001b[49m\u001b[43m,\u001b[49m\u001b[43m \u001b[49m\u001b[43miteration\u001b[49m\u001b[38;5;241;43m=\u001b[39;49m\u001b[43mi\u001b[49m\u001b[43m,\u001b[49m\u001b[43m \u001b[49m\u001b[43mfobj\u001b[49m\u001b[38;5;241;43m=\u001b[39;49m\u001b[43mobj\u001b[49m\u001b[43m)\u001b[49m\n\u001b[1;32m    182\u001b[0m \u001b[38;5;28;01mif\u001b[39;00m cb_container\u001b[38;5;241m.\u001b[39mafter_iteration(bst, i, dtrain, evals):\n\u001b[1;32m    183\u001b[0m     \u001b[38;5;28;01mbreak\u001b[39;00m\n",
      "File \u001b[0;32m~/miniconda3/envs/tokyo/lib/python3.13/site-packages/xgboost/core.py:2101\u001b[0m, in \u001b[0;36mBooster.update\u001b[0;34m(self, dtrain, iteration, fobj)\u001b[0m\n\u001b[1;32m   2097\u001b[0m \u001b[38;5;28mself\u001b[39m\u001b[38;5;241m.\u001b[39m_assign_dmatrix_features(dtrain)\n\u001b[1;32m   2099\u001b[0m \u001b[38;5;28;01mif\u001b[39;00m fobj \u001b[38;5;129;01mis\u001b[39;00m \u001b[38;5;28;01mNone\u001b[39;00m:\n\u001b[1;32m   2100\u001b[0m     _check_call(\n\u001b[0;32m-> 2101\u001b[0m         \u001b[43m_LIB\u001b[49m\u001b[38;5;241;43m.\u001b[39;49m\u001b[43mXGBoosterUpdateOneIter\u001b[49m\u001b[43m(\u001b[49m\n\u001b[1;32m   2102\u001b[0m \u001b[43m            \u001b[49m\u001b[38;5;28;43mself\u001b[39;49m\u001b[38;5;241;43m.\u001b[39;49m\u001b[43mhandle\u001b[49m\u001b[43m,\u001b[49m\u001b[43m \u001b[49m\u001b[43mctypes\u001b[49m\u001b[38;5;241;43m.\u001b[39;49m\u001b[43mc_int\u001b[49m\u001b[43m(\u001b[49m\u001b[43miteration\u001b[49m\u001b[43m)\u001b[49m\u001b[43m,\u001b[49m\u001b[43m \u001b[49m\u001b[43mdtrain\u001b[49m\u001b[38;5;241;43m.\u001b[39;49m\u001b[43mhandle\u001b[49m\n\u001b[1;32m   2103\u001b[0m \u001b[43m        \u001b[49m\u001b[43m)\u001b[49m\n\u001b[1;32m   2104\u001b[0m     )\n\u001b[1;32m   2105\u001b[0m \u001b[38;5;28;01melse\u001b[39;00m:\n\u001b[1;32m   2106\u001b[0m     pred \u001b[38;5;241m=\u001b[39m \u001b[38;5;28mself\u001b[39m\u001b[38;5;241m.\u001b[39mpredict(dtrain, output_margin\u001b[38;5;241m=\u001b[39m\u001b[38;5;28;01mTrue\u001b[39;00m, training\u001b[38;5;241m=\u001b[39m\u001b[38;5;28;01mTrue\u001b[39;00m)\n",
      "\u001b[0;31mKeyboardInterrupt\u001b[0m: "
     ]
    }
   ],
   "source": [
    "# 特徵篩選函數\n",
    "def feature_selection(model, X_train, y_train, threshold):\n",
    "    model.fit(X_train, y_train)\n",
    "    feature_importances = model.feature_importances_\n",
    "    selected_features = X_train.columns[feature_importances > threshold]\n",
    "    return selected_features\n",
    "\n",
    "# 定義模型和目標變量\n",
    "models = {\n",
    "    'play_years': (XGBClassifier(objective='multi:softmax', num_class=3, n_jobs=-1), y_play_years),\n",
    "    'level': (XGBClassifier(objective='multi:softmax', num_class=3, n_jobs=-1), y_level),\n",
    "    'gender': (XGBClassifier(objective='multi:softmax', num_class=2, n_jobs=-1), y_gender),\n",
    "    'hold': (XGBClassifier(objective='multi:softmax', num_class=2, n_jobs=-1), y_hold)\n",
    "}\n",
    "\n",
    "# 設置閾值範圍\n",
    "thresholds = [0.01, 0.015, 0.02, 0.025, 0.03]\n",
    "\n",
    "# 儲存結果的字典\n",
    "results = {name: [] for name in models.keys()}\n",
    "\n",
    "# 對每個模型和閾值進行特徵篩選並計算分數\n",
    "for name, (model, y_train) in models.items():\n",
    "    for threshold in thresholds:\n",
    "        selected_features = feature_selection(model, pd.DataFrame(X_scaled, columns=X.columns), y_train, threshold)\n",
    "        \n",
    "        # 根據選定的特徵重新構建數據集\n",
    "        X_train_selected = pd.DataFrame(X_scaled, columns=X.columns)[selected_features]\n",
    "        \n",
    "        # 使用交叉驗證計算分數（例如 AUC 或準確率）\n",
    "        score = cross_val_score(model, X_train_selected, y_train, cv=5, scoring='accuracy').mean()\n",
    "        results[name].append(score)\n",
    "\n",
    "# 繪製每個模型的閾值 - 分數圖表\n",
    "plt.figure(figsize=(12, 8))\n",
    "for name in models.keys():\n",
    "    plt.plot(thresholds, results[name], label=f'{name} Model')\n",
    "plt.xlabel('Feature Importance Threshold')\n",
    "plt.ylabel('Cross-Validated Score (Accuracy)')\n",
    "plt.title('Threshold vs Model Performance')\n",
    "plt.legend()\n",
    "plt.show()"
   ]
  },
  {
   "cell_type": "code",
   "execution_count": null,
   "metadata": {},
   "outputs": [],
   "source": [
    "param_dist = {\n",
    "    'n_estimators': [420, 425, 430],\n",
    "    'learning_rate': [0.13, 0.15, 0.17],\n",
    "    'max_depth': [8, 9, 10],\n",
    "    'subsample': [0.675, 0.7, 0.725],\n",
    "    'colsample_bytree': [0.76, 0.775, 0.79]\n",
    "}\n",
    "other_params = {\n",
    "    # ----通用參數----#\n",
    "    #'booster': 'gbtree',\n",
    "    #------Booster參數---#\n",
    "    #'n_estimators': 500,\n",
    "    #'learning_rate': 0.07, #0.1就很好\n",
    "    #'gamma': 0.03, #上面側都是0\n",
    "    #'subsample': 0.7, #默認是1 \n",
    "    #'colsample_bytree': 0.8, #默認是1 一般設0.8 \n",
    "    #'colsample_bylevel': 1, #默認是1\n",
    "    #'max_depth': 9, #3-10 系統默認是6\n",
    "    #'max_delta_step': 0, #比較不會調 默認是0\n",
    "    #'reg_alpha': 0.01, #default 0\n",
    "    #'reg_lambda': 0.1, #default 0 ＃\n",
    "    #'min_child_weight': 2, #還沒測\n",
    "    #----學習目標參數----#\n",
    "    'objective': 'multi:softprob',\n",
    "    'num_class': 3,\n",
    "    'eval_metric': 'mlogloss',\n",
    "    'seed': 21,\n",
    "    'n_jobs': -1       \n",
    "    #'scale_pos_weight': 1\n",
    "}\n",
    "play_years_model = XGBClassifier(**other_params)\n",
    "rsearch = RandomizedSearchCV(\n",
    "    estimator=play_years_model, \n",
    "    param_distributions=param_dist,\n",
    "    n_iter=50,\n",
    "    scoring='roc_auc_ovr',\n",
    "    cv=3,\n",
    "    verbose = 2,\n",
    "    n_jobs = -1\n",
    ")\n",
    "rsearch.fit(X_scaled, y_play_years)\n",
    "#gserach.grid_scores_\n",
    "#'n_estimators': [300, 400, 500, 600, 700, 800], #'gamma': [0.1, 0.2, 0.3, 0.4, 0.5, 0.6]\n",
    "#'max_depth': [3, 4, 5, 6, 7, 8, 9, 10], 'min_child_weight': [1, 2, 3, 4, 5, 6]\n",
    "#'subsample': [0.6, 0.7, 0.8, 0.9], 'colsample_bytree': [0.6, 0.7, 0.8, 0.9]\n",
    "#'reg_alpha':[1e-5, 1e-2, 0.05, 0.1, 1, 2, 3]#'reg_lambda': [0.05, 0.1, 0.2, 0.4, 0.6, 0.8, 1, 2, 3]\n",
    "#“learning_rate\": [0.01, 0.02, 0.05, 0.07, 0.1, 0.12, 0.15, 0.2, 0.3]"
   ]
  },
  {
   "cell_type": "code",
   "execution_count": null,
   "metadata": {},
   "outputs": [],
   "source": [
    "print('Years参数的最佳取值：{0}'.format(rsearch.best_params_))\n",
    "print('Years最佳模型得分:{0}'.format(rsearch.best_score_))\n",
    "\n",
    "#Years参数的最佳取值：{'subsample': 0.7, 'n_estimators': 400, 'max_depth': 9, 'learning_rate': 0.1, 'colsample_bytree': 0.8}\n",
    "#Years最佳模型得分:0.9904479317093666\n",
    "#Years参数的最佳取值：{'subsample': 0.65, 'n_estimators': 450, 'max_depth': 8, 'learning_rate': 0.1, 'colsample_bytree': 0.8}\n",
    "#Years最佳模型得分:0.9906297956767164\n",
    "#{'subsample': 0.7, 'n_estimators': 425, 'max_depth': 9, 'learning_rate': 0.15, 'colsample_bytree': 0.775}\n",
    "#Years最佳模型得分:0.9905886010429984\n",
    "#Years参数的最佳取值：{'subsample': 0.725, 'n_estimators': 430, 'max_depth': 8, 'learning_rate': 0.15, 'colsample_bytree': 0.79}\n",
    "#Years最佳模型得分:0.9906647960266247"
   ]
  },
  {
   "cell_type": "code",
   "execution_count": null,
   "metadata": {},
   "outputs": [],
   "source": [
    "play_years_model = XGBClassifier(\n",
    "    objective='multi:softmax', \n",
    "    num_class=3, \n",
    "    #eval_metric='mlogloss',\n",
    "    #n_estimators = 430,\n",
    "    #learning_rate = 0.15,\n",
    "    #max_depth = 8,\n",
    "    #subsample = 0.725,\n",
    "    #colsample_bytree = 0.79,\n",
    "    #early_stopping_rounds=20,\n",
    "    seed = 42,\n",
    "    n_jobs=-1\n",
    ")#objective='multi:softprob', num_class=3, eval_metric='mlogloss'\n",
    "play_years_model.fit(\n",
    "    X_train_play_years, y_play_years, #y_train_play_years #y_play_years\n",
    "    #eval_set=[(X_val_play_years, y_val_play_years)],\n",
    "    verbose=True\n",
    ")\n",
    "\n",
    "y_pred_play_years = play_years_model.predict_proba(X_test_play_years)"
   ]
  },
  {
   "cell_type": "code",
   "execution_count": null,
   "metadata": {},
   "outputs": [],
   "source": [
    "param_dist = {\n",
    "    'n_estimators': [275, 300, 325],\n",
    "    'learning_rate': [0.15, 0.2, 0.25],\n",
    "    'max_depth': [6, 7, 8],\n",
    "    'subsample': [0.85, 0.9, 0.95],\n",
    "    'colsample_bytree': [0.65, 0.7, 0.75]\n",
    "}\n",
    "other_params = {\n",
    "    'objective': 'multi:softprob',\n",
    "    'num_class': 3,\n",
    "    'eval_metric': 'mlogloss',\n",
    "    'seed': 42,\n",
    "    'n_jobs': -1       \n",
    "}\n",
    "level_model = XGBClassifier(**other_params)\n",
    "rsearch = RandomizedSearchCV(\n",
    "    estimator=level_model, \n",
    "    param_distributions=param_dist,\n",
    "    n_iter=50,\n",
    "    scoring='roc_auc_ovr',\n",
    "    cv=3,\n",
    "    verbose = 2,\n",
    "    n_jobs = -1\n",
    ")\n",
    "rsearch.fit(X_train_level, y_train_level)"
   ]
  },
  {
   "cell_type": "code",
   "execution_count": null,
   "metadata": {},
   "outputs": [],
   "source": [
    "print('Level参数的最佳取值：{0}'.format(rsearch.best_params_))\n",
    "print('Level最佳模型得分:{0}'.format(rsearch.best_score_))\n",
    "#Level参数的最佳取值：{'subsample': 0.9, 'n_estimators': 300, 'max_depth': 7, 'learning_rate': 0.2, 'colsample_bytree': 0.7}\n",
    "#Level最佳模型得分:0.9921012182786049\n",
    "#Level参数的最佳取值：{'subsample': 0.85, 'n_estimators': 325, 'max_depth': 8, 'learning_rate': 0.25, 'colsample_bytree': 0.75}\n",
    "#Level最佳模型得分:0.9923021806678366"
   ]
  },
  {
   "cell_type": "code",
   "execution_count": null,
   "metadata": {},
   "outputs": [],
   "source": [
    "level_model = XGBClassifier(\n",
    "    objective='multi:softmax', \n",
    "    num_class=3, \n",
    "    #eval_metric='mlogloss',\n",
    "    #n_estimators = 430,\n",
    "    #learning_rate = 0.15,\n",
    "    #max_depth = 8,\n",
    "    #subsample = 0.725,\n",
    "    #colsample_bytree = 0.79,\n",
    "    #early_stopping_rounds=20,\n",
    "    seed = 42,\n",
    "    n_jobs=-1\n",
    ")#objective='multi:softprob', num_class=3, eval_metric='mlogloss'\n",
    "level_model.fit(\n",
    "    X_train_level, y_level,\n",
    "    #eval_set=[(X_val_level, y_val_level)],\n",
    "    verbose=True\n",
    ")\n",
    "\n",
    "y_pred_level = level_model.predict_proba(X_test_level)"
   ]
  },
  {
   "cell_type": "code",
   "execution_count": null,
   "metadata": {},
   "outputs": [],
   "source": [
    "param_dist = {\n",
    "    'n_estimators': [435, 440, 445],\n",
    "    'learning_rate': [0.072, 0.0725, 0.073],\n",
    "    'max_depth': [8, 9],\n",
    "    'subsample': [0.865, 0.87, 0.875],\n",
    "    'colsample_bytree': [0.81, 0.82, 0.83]\n",
    "}\n",
    "other_params = {\n",
    "    'objective': 'binary:logistic',\n",
    "    'eval_metric': 'error',\n",
    "    'seed': 7,\n",
    "    'n_jobs': -1       \n",
    "}\n",
    "level_model = XGBClassifier(**other_params)\n",
    "rsearch = RandomizedSearchCV(\n",
    "    estimator=level_model, \n",
    "    param_distributions=param_dist,\n",
    "    n_iter=50,\n",
    "    scoring='roc_auc',\n",
    "    cv=3,\n",
    "    verbose = 2,\n",
    "    n_jobs = -1\n",
    ")\n",
    "rsearch.fit(X_train_gender, y_train_gender)\n",
    "#gserach.grid_scores_\n",
    "#'n_estimators': [300, 400, 500, 600, 700, 800]\n",
    "#'gamma': [0.1, 0.2, 0.3, 0.4, 0.5, 0.6]\n",
    "#'max_depth': [3, 4, 5, 6, 7, 8, 9, 10], 'min_child_weight': [1, 2, 3, 4, 5, 6]\n",
    "#'subsample': [0.6, 0.7, 0.8, 0.9], 'colsample_bytree': [0.6, 0.7, 0.8, 0.9]\n",
    "#'reg_alpha':[1e-5, 1e-2, 0.05, 0.1, 1, 2, 3]\n",
    "#'reg_lambda': [0.05, 0.1, 0.2, 0.4, 0.6, 0.8, 1, 2, 3]\n",
    "#\"eta/learning_rate\": [0.01, 0.02, 0.05, 0.07, 0.1, 0.12, 0.15, 0.2, 0.3]"
   ]
  },
  {
   "cell_type": "code",
   "execution_count": null,
   "metadata": {},
   "outputs": [],
   "source": [
    "print('Gender参数的最佳取值：{0}'.format(rsearch.best_params_))\n",
    "print('Gender最佳模型得分:{0}'.format(rsearch.best_score_))\n",
    "#Gender参数的最佳取值：{'subsample': 0.87, 'n_estimators': 440, 'max_depth': 9, 'learning_rate': 0.0725, 'colsample_bytree': 0.82}\n",
    "#Gender最佳模型得分:0.9945949289008368"
   ]
  },
  {
   "cell_type": "code",
   "execution_count": null,
   "metadata": {},
   "outputs": [],
   "source": [
    "gender_model = XGBClassifier(\n",
    "    objective='multi:softmax', \n",
    "    num_class=2, \n",
    "    #eval_metric='auc',\n",
    "    #n_estimators = 430,\n",
    "    #learning_rate = 0.15,\n",
    "    #max_depth = 8,\n",
    "    #subsample = 0.725,\n",
    "    #colsample_bytree = 0.79,\n",
    "    #early_stopping_rounds=20,\n",
    "    seed = 42,\n",
    "    n_jobs=-1\n",
    ")#objective='multi:softprob', num_class=3, eval_metric='mlogloss'\n",
    "gender_model.fit(\n",
    "    X_train_gender, y_gender,\n",
    "    #eval_set=[(X_val_gender, y_val_gender)],\n",
    "    verbose=True\n",
    ")\n",
    "\n",
    "y_pred_gender = gender_model.predict_proba(X_test_gender)"
   ]
  },
  {
   "cell_type": "code",
   "execution_count": null,
   "metadata": {},
   "outputs": [],
   "source": [
    "hold_model = XGBClassifier(\n",
    "    objective='multi:softmax', \n",
    "    num_class=2, \n",
    "    #eval_metric='auc',\n",
    "    #n_estimators = 430,\n",
    "    #learning_rate = 0.15,\n",
    "    #max_depth = 8,\n",
    "    #subsample = 0.725,\n",
    "    #colsample_bytree = 0.79,\n",
    "    #early_stopping_rounds=20,\n",
    "    seed = 42,\n",
    "    n_jobs=-1\n",
    ")#objective='multi:softprob', num_class=3, eval_metric='mlogloss'\n",
    "hold_model.fit(\n",
    "    X_train_hold, y_hold,\n",
    "    #eval_set=[(X_val_hold, y_val_hold)],\n",
    "    verbose=True\n",
    ")\n",
    "\n",
    "y_pred_hold = hold_model.predict_proba(X_test_hold)"
   ]
  },
  {
   "cell_type": "code",
   "execution_count": null,
   "metadata": {},
   "outputs": [],
   "source": [
    "print('Hold参数的最佳取值：{0}'.format(rserach.best_params_))\n",
    "print('Hold最佳模型得分:{0}'.format(rserach.best_score_))"
   ]
  },
  {
   "cell_type": "code",
   "execution_count": null,
   "metadata": {},
   "outputs": [],
   "source": [
    "# 5. 組合測試集預測結果並生成提交檔案\n",
    "submission = pd.DataFrame({\n",
    "    'data_ID': test_data['data_ID'],\n",
    "    'gender': y_pred_gender[:, 1],\n",
    "    'hold racket handed': y_pred_hold[:, 1],\n",
    "    'play years_0': y_pred_play_years[:, 0],\n",
    "    'play years_1': y_pred_play_years[:, 1],\n",
    "    'play years_2': y_pred_play_years[:, 2],\n",
    "    'level_0': y_pred_level[:, 0],\n",
    "    'level_1': y_pred_level[:, 1],\n",
    "    'level_2': y_pred_level[:, 2]\n",
    "})\n",
    "\n",
    "# 儲存提交檔案\n",
    "submission.to_csv('submission.csv', index=False)"
   ]
  }
 ],
 "metadata": {
  "kernelspec": {
   "display_name": "tokyo",
   "language": "python",
   "name": "python3"
  },
  "language_info": {
   "codemirror_mode": {
    "name": "ipython",
    "version": 3
   },
   "file_extension": ".py",
   "mimetype": "text/x-python",
   "name": "python",
   "nbconvert_exporter": "python",
   "pygments_lexer": "ipython3",
   "version": "3.13.0"
  }
 },
 "nbformat": 4,
 "nbformat_minor": 2
}
