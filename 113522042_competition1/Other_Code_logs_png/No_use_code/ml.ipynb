{
 "cells": [
  {
   "cell_type": "code",
   "execution_count": 18,
   "metadata": {},
   "outputs": [],
   "source": [
    "from sklearn.model_selection import train_test_split\n",
    "from sklearn.preprocessing import StandardScaler\n",
    "from sklearn.metrics import accuracy_score, precision_score, recall_score, f1_score, roc_auc_score\n",
    "import numpy as np\n",
    "import pandas as pd\n",
    "import xgboost as xgb\n",
    "from xgboost.sklearn import XGBClassifier\n",
    "from sklearn.model_selection import RandomizedSearchCV\n",
    "import matplotlib.pyplot as plt\n",
    "import numpy as np\n",
    "from sklearn.model_selection import KFold\n",
    "from imblearn.over_sampling import SMOTE\n",
    "from collections import Counter\n",
    "from sklearn.model_selection import cross_val_score\n",
    "from sklearn.preprocessing import label_binarize"
   ]
  },
  {
   "cell_type": "code",
   "execution_count": null,
   "metadata": {},
   "outputs": [],
   "source": [
    "train_data = pd.read_csv('train.csv')\n",
    "test_data = pd.read_csv('test.csv')\n",
    "\n",
    "X_train= train_data.drop(columns=['data_ID', 'player_ID', 'gender', 'play years', 'hold racket handed', 'level'])\n",
    "X_test = test_data.drop(columns=['data_ID'])\n",
    "\n",
    "y_play_years = train_data['play years']\n",
    "y_level = train_data['level']\n",
    "y_gender = train_data['gender']\n",
    "y_hold= train_data['hold racket handed']\n",
    "\n",
    "# 合併資料進行正規化\n",
    "X_combined = pd.concat([X_train, X_test], axis=0)\n",
    "scaler = StandardScaler()\n",
    "X_combined_scaled = scaler.fit_transform(X_combined)\n",
    "\n",
    "# 將正規化後的數據拆分回訓練集和測試集\n",
    "X_scaled = X_combined_scaled[:len(X_train)]\n",
    "X_test_scaled = X_combined_scaled[len(X_train):]\n",
    "\n",
    "\n",
    "X_train_play_years, X_val_play_years, y_train_play_years, y_val_play_years = train_test_split(X_scaled, y_play_years, test_size=0.2, random_state=21)\n",
    "X_train_level, X_val_level, y_train_level, y_val_level = train_test_split(X_scaled, y_level, test_size=0.2, random_state=21)\n",
    "X_train_gender, X_val_gender, y_train_gender, y_val_gender = train_test_split(X_scaled, y_gender, test_size=0.2, random_state=21)\n",
    "X_train_hold, X_val_hold, y_train_hold, y_val_hold = train_test_split(X_scaled, y_hold, test_size=0.2, random_state=21)"
   ]
  },
  {
   "cell_type": "code",
   "execution_count": 20,
   "metadata": {},
   "outputs": [
    {
     "name": "stdout",
     "output_type": "stream",
     "text": [
      "Micro One-vs-Rest ROC AUC for play_years_model: 0.9921353981826516\n"
     ]
    }
   ],
   "source": [
    "play_years_model = XGBClassifier(objective='multi:softmax', num_class=3, seed = 42, n_jobs=-1) #objective='multi:softmax', num_class=3,\n",
    "play_years_model.fit(X_train_play_years, y_train_play_years, verbose=True)\n",
    "\n",
    "y_pred_years = play_years_model.predict_proba(X_val_play_years)\n",
    "y_val_play_years_binarized = label_binarize(y_val_play_years, classes=[0, 1, 2])\n",
    "\n",
    "# 計算 Micro One-vs-Rest ROC AUC\n",
    "roc_auc_years = roc_auc_score(y_val_play_years_binarized, y_pred_years, multi_class=\"ovr\", average=\"micro\")\n",
    "print(f\"Micro One-vs-Rest ROC AUC for play_years_model: {roc_auc_years}\")\n"
   ]
  },
  {
   "cell_type": "code",
   "execution_count": 21,
   "metadata": {},
   "outputs": [
    {
     "name": "stdout",
     "output_type": "stream",
     "text": [
      "Micro One-vs-Rest ROC AUC for level_model: 0.9950129238811198\n"
     ]
    }
   ],
   "source": [
    "level_model = XGBClassifier(objective='multi:softmax', num_class=3, seed = 42, n_jobs=-1) #objective='multi:softmax', num_class=3, \n",
    "level_model.fit(X_train_level, y_train_level, verbose=True)\n",
    "\n",
    "y_pred_level = level_model.predict_proba(X_val_level)\n",
    "y_val_level_binarized = label_binarize(y_val_level, classes=[0, 1, 2])\n",
    "\n",
    "roc_auc_level = roc_auc_score(y_val_level_binarized, y_pred_level, multi_class=\"ovr\", average=\"micro\")\n",
    "print(f\"Micro One-vs-Rest ROC AUC for level_model: {roc_auc_level}\")"
   ]
  },
  {
   "cell_type": "code",
   "execution_count": null,
   "metadata": {},
   "outputs": [
    {
     "name": "stdout",
     "output_type": "stream",
     "text": [
      "新增的人工特徵: ['ay_az_mean', 'gz_rms_g_mean', 'ay_rms_squared', 'log_g_entropy', 'az_mean_g_kurt_ratio']\n"
     ]
    },
    {
     "name": "stderr",
     "output_type": "stream",
     "text": [
      "/tmp/ipykernel_474223/2955507452.py:31: SettingWithCopyWarning: \n",
      "A value is trying to be set on a copy of a slice from a DataFrame.\n",
      "Try using .loc[row_indexer,col_indexer] = value instead\n",
      "\n",
      "See the caveats in the documentation: https://pandas.pydata.org/pandas-docs/stable/user_guide/indexing.html#returning-a-view-versus-a-copy\n",
      "  X_train_selected['ay_az_mean'] = X_train_selected['ay_mean'] * X_train_selected['az_mean']\n",
      "/tmp/ipykernel_474223/2955507452.py:32: SettingWithCopyWarning: \n",
      "A value is trying to be set on a copy of a slice from a DataFrame.\n",
      "Try using .loc[row_indexer,col_indexer] = value instead\n",
      "\n",
      "See the caveats in the documentation: https://pandas.pydata.org/pandas-docs/stable/user_guide/indexing.html#returning-a-view-versus-a-copy\n",
      "  X_train_selected['gz_rms_g_mean'] = X_train_selected['gz_rms'] * X_train_selected['g_mean']\n",
      "/tmp/ipykernel_474223/2955507452.py:33: SettingWithCopyWarning: \n",
      "A value is trying to be set on a copy of a slice from a DataFrame.\n",
      "Try using .loc[row_indexer,col_indexer] = value instead\n",
      "\n",
      "See the caveats in the documentation: https://pandas.pydata.org/pandas-docs/stable/user_guide/indexing.html#returning-a-view-versus-a-copy\n",
      "  X_train_selected['ay_rms_squared'] = X_train_selected['ay_rms'] ** 2\n",
      "/tmp/ipykernel_474223/2955507452.py:34: SettingWithCopyWarning: \n",
      "A value is trying to be set on a copy of a slice from a DataFrame.\n",
      "Try using .loc[row_indexer,col_indexer] = value instead\n",
      "\n",
      "See the caveats in the documentation: https://pandas.pydata.org/pandas-docs/stable/user_guide/indexing.html#returning-a-view-versus-a-copy\n",
      "  X_train_selected['log_g_entropy'] = np.log1p(X_train_selected['g_entropy'])\n",
      "/tmp/ipykernel_474223/2955507452.py:35: SettingWithCopyWarning: \n",
      "A value is trying to be set on a copy of a slice from a DataFrame.\n",
      "Try using .loc[row_indexer,col_indexer] = value instead\n",
      "\n",
      "See the caveats in the documentation: https://pandas.pydata.org/pandas-docs/stable/user_guide/indexing.html#returning-a-view-versus-a-copy\n",
      "  X_train_selected['az_mean_g_kurt_ratio'] = X_train_selected['az_mean'] / (X_train_selected['g_kurt'] + 1e-5)\n",
      "/tmp/ipykernel_474223/2955507452.py:37: SettingWithCopyWarning: \n",
      "A value is trying to be set on a copy of a slice from a DataFrame.\n",
      "Try using .loc[row_indexer,col_indexer] = value instead\n",
      "\n",
      "See the caveats in the documentation: https://pandas.pydata.org/pandas-docs/stable/user_guide/indexing.html#returning-a-view-versus-a-copy\n",
      "  X_test_selected['ay_az_mean'] = X_test_selected['ay_mean'] * X_test_selected['az_mean']\n",
      "/tmp/ipykernel_474223/2955507452.py:38: SettingWithCopyWarning: \n",
      "A value is trying to be set on a copy of a slice from a DataFrame.\n",
      "Try using .loc[row_indexer,col_indexer] = value instead\n",
      "\n",
      "See the caveats in the documentation: https://pandas.pydata.org/pandas-docs/stable/user_guide/indexing.html#returning-a-view-versus-a-copy\n",
      "  X_test_selected['gz_rms_g_mean'] = X_test_selected['gz_rms'] * X_test_selected['g_mean']\n",
      "/tmp/ipykernel_474223/2955507452.py:39: SettingWithCopyWarning: \n",
      "A value is trying to be set on a copy of a slice from a DataFrame.\n",
      "Try using .loc[row_indexer,col_indexer] = value instead\n",
      "\n",
      "See the caveats in the documentation: https://pandas.pydata.org/pandas-docs/stable/user_guide/indexing.html#returning-a-view-versus-a-copy\n",
      "  X_test_selected['ay_rms_squared'] = X_test_selected['ay_rms'] ** 2\n",
      "/tmp/ipykernel_474223/2955507452.py:40: SettingWithCopyWarning: \n",
      "A value is trying to be set on a copy of a slice from a DataFrame.\n",
      "Try using .loc[row_indexer,col_indexer] = value instead\n",
      "\n",
      "See the caveats in the documentation: https://pandas.pydata.org/pandas-docs/stable/user_guide/indexing.html#returning-a-view-versus-a-copy\n",
      "  X_test_selected['log_g_entropy'] = np.log1p(X_test_selected['g_entropy'])\n",
      "/tmp/ipykernel_474223/2955507452.py:41: SettingWithCopyWarning: \n",
      "A value is trying to be set on a copy of a slice from a DataFrame.\n",
      "Try using .loc[row_indexer,col_indexer] = value instead\n",
      "\n",
      "See the caveats in the documentation: https://pandas.pydata.org/pandas-docs/stable/user_guide/indexing.html#returning-a-view-versus-a-copy\n",
      "  X_test_selected['az_mean_g_kurt_ratio'] = X_test_selected['az_mean'] / (X_test_selected['g_kurt'] + 1e-5)\n"
     ]
    }
   ],
   "source": [
    "selected_features_gender_1 = ['ay_mean', 'ay_rms', 'az_mean', 'a_mean', 'gz_rms', 'g_mean', 'ax_rms']\n",
    "selected_features_gender_2 = ['g_entropy', 'a_kurt', 'gz_var', 'g_kurt', 'gy_var', 'az_var']\n",
    "\n",
    "X_train_gender_selected = X_train[selected_features_gender_1 + selected_features_gender_2]\n",
    "X_test_gender_selected = X_test[selected_features_gender_1 + selected_features_gender_2]\n",
    "\n",
    "# 創建人工特徵\n",
    "X_train_gender_selected['ay_az_mean'] = X_train_gender_selected['ay_mean'] * X_train_gender_selected['az_mean']\n",
    "X_train_gender_selected['gz_rms_g_mean'] = X_train_gender_selected['gz_rms'] * X_train_gender_selected['g_mean']\n",
    "X_train_gender_selected['ay_rms_squared'] = X_train_gender_selected['ay_rms'] ** 2\n",
    "X_train_gender_selected['log_g_entropy'] = np.log1p(X_train_gender_selected['g_entropy'])\n",
    "X_train_gender_selected['az_mean_g_kurt_ratio'] = X_train_gender_selected['az_mean'] / (X_train_gender_selected['g_kurt'] + 1e-5)\n",
    "\n",
    "X_test_gender_selected['ay_az_mean'] = X_test_gender_selected['ay_mean'] * X_test_gender_selected['az_mean']\n",
    "X_test_gender_selected['gz_rms_g_mean'] = X_test_gender_selected['gz_rms'] * X_test_gender_selected['g_mean']\n",
    "X_test_gender_selected['ay_rms_squared'] = X_test_gender_selected['ay_rms'] ** 2\n",
    "X_test_gender_selected['log_g_entropy'] = np.log1p(X_test_gender_selected['g_entropy'])\n",
    "X_test_gender_selected['az_mean_g_kurt_ratio'] = X_test_gender_selected['az_mean'] / (X_test_gender_selected['g_kurt'] + 1e-5)\n",
    "\n",
    "# 將人工特徵進行標準化\n",
    "X_train_selected_scaled = scaler.fit_transform(X_train_gender_selected)\n",
    "X_test_selected_scaled = scaler.transform(X_test_gender_selected)\n",
    "\n",
    "# 合併人工特徵回到原始的正規化資料集中\n",
    "X_train_gender_enhanced = np.hstack((X_scaled, X_train_selected_scaled))\n",
    "X_test_gender_enhanced = np.hstack((X_test_scaled, X_test_selected_scaled))\n",
    "\n",
    "# 打印人工特徵的名稱\n",
    "print(\"新增的人工特徵:\", ['ay_az_mean', 'gz_rms_g_mean', 'ay_rms_squared', 'log_g_entropy', 'az_mean_g_kurt_ratio'])\n"
   ]
  },
  {
   "cell_type": "code",
   "execution_count": null,
   "metadata": {},
   "outputs": [
    {
     "data": {
      "text/plain": [
       "'\\ny_pred_gender = gender_model.predict_proba(X_val_gender)[:, 1]\\nroc_auc_gender = roc_auc_score(y_val_gender, y_pred_gender)\\nprint(f\"ROC AUC for gender_model: {roc_auc_gender}\")\\n'"
      ]
     },
     "execution_count": 26,
     "metadata": {},
     "output_type": "execute_result"
    }
   ],
   "source": [
    "gender_model = XGBClassifier(objective='multi:softmax', num_class=2, seed = 42, n_jobs=-1)#objective='multi:softmax', num_class=2, \n",
    "gender_model.fit(X_train_gender_enhanced, y_gender, verbose=True)"
   ]
  },
  {
   "cell_type": "code",
   "execution_count": null,
   "metadata": {},
   "outputs": [],
   "source": [
    "y_pred_years = play_years_model.predict_proba(X_test_scaled)\n",
    "y_pred_level = level_model.predict_proba(X_test_scaled)\n",
    "y_pred_gender = gender_model.predict_proba(X_test_selected_scaled)\n",
    "y_pred_hold = hold_model.predict_proba(X_test_enhanced)"
   ]
  },
  {
   "cell_type": "code",
   "execution_count": 36,
   "metadata": {},
   "outputs": [],
   "source": [
    "submission = pd.DataFrame({\n",
    "    'data_ID': test_data['data_ID'],\n",
    "    'gender': y_pred_gender[:, 1],\n",
    "    'hold racket handed': y_pred_hold[:, 1],\n",
    "    'play years_0': y_pred_years[:, 0],\n",
    "    'play years_1': y_pred_years[:, 1],\n",
    "    'play years_2': y_pred_years[:, 2],\n",
    "    'level_0': y_pred_level[:, 0],\n",
    "    'level_1': y_pred_level[:, 1],\n",
    "    'level_2': y_pred_level[:, 2]\n",
    "})\n",
    "\n",
    "# 儲存提交檔案\n",
    "submission.to_csv('submission.csv', index=False)"
   ]
  }
 ],
 "metadata": {
  "kernelspec": {
   "display_name": "tokyo",
   "language": "python",
   "name": "python3"
  },
  "language_info": {
   "codemirror_mode": {
    "name": "ipython",
    "version": 3
   },
   "file_extension": ".py",
   "mimetype": "text/x-python",
   "name": "python",
   "nbconvert_exporter": "python",
   "pygments_lexer": "ipython3",
   "version": "3.13.0"
  }
 },
 "nbformat": 4,
 "nbformat_minor": 2
}
