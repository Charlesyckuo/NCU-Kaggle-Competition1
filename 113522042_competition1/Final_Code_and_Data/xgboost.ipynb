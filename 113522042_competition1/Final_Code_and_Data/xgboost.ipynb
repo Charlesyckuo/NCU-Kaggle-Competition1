{
 "cells": [
  {
   "cell_type": "code",
   "execution_count": 1,
   "metadata": {},
   "outputs": [],
   "source": [
    "from sklearn.preprocessing import StandardScaler\n",
    "import pandas as pd\n",
    "from xgboost import XGBClassifier"
   ]
  },
  {
   "cell_type": "code",
   "execution_count": 2,
   "metadata": {},
   "outputs": [],
   "source": [
    "train_data = pd.read_csv('train.csv')\n",
    "test_data = pd.read_csv('test.csv')\n",
    "\n",
    "X_train= train_data.drop(columns=['data_ID', 'player_ID', 'gender', 'play years', 'hold racket handed', 'level'])\n",
    "X_test = test_data.drop(columns=['data_ID'])\n",
    "\n",
    "y_play_years = train_data['play years']\n",
    "y_level = train_data['level']\n",
    "y_gender = train_data['gender']\n",
    "y_hold= train_data['hold racket handed']\n",
    "\n",
    "scaler = StandardScaler()\n",
    "X_scaled = scaler.fit_transform(X_train)\n",
    "X_test_scaled = scaler.fit_transform(X_test)"
   ]
  },
  {
   "cell_type": "code",
   "execution_count": 3,
   "metadata": {},
   "outputs": [
    {
     "name": "stdout",
     "output_type": "stream",
     "text": [
      "Selected features for years: Index(['ax_mean', 'ay_mean', 'az_mean', 'gx_mean', 'gy_mean', 'gz_mean',\n",
      "       'ax_var', 'ay_var', 'az_var', 'gx_var', 'gy_var', 'gz_var', 'ax_rms',\n",
      "       'ay_rms', 'az_rms', 'gx_rms', 'gy_rms', 'gz_rms', 'a_max', 'a_mean',\n",
      "       'g_max', 'g_mean', 'a_kurt', 'g_kurt', 'a_skewn', 'g_skewn',\n",
      "       'a_entropy'],\n",
      "      dtype='object')\n",
      "Selected features for level: Index(['ax_mean', 'ay_mean', 'az_mean', 'gx_mean', 'gy_mean', 'gz_mean',\n",
      "       'ax_var', 'ay_var', 'az_var', 'gx_var', 'gy_var', 'gz_var', 'ax_rms',\n",
      "       'ay_rms', 'az_rms', 'gx_rms', 'gy_rms', 'gz_rms', 'a_max', 'a_mean',\n",
      "       'g_max', 'g_mean', 'a_kurt', 'g_kurt', 'a_skewn', 'g_skewn',\n",
      "       'a_entropy'],\n",
      "      dtype='object')\n",
      "Selected features for hold: Index(['ax_mean', 'az_mean', 'gx_mean', 'gy_mean', 'az_var', 'gx_var',\n",
      "       'gy_var', 'ax_rms', 'az_rms', 'gy_rms', 'gz_rms', 'a_max', 'a_mean',\n",
      "       'g_max', 'g_mean'],\n",
      "      dtype='object')\n"
     ]
    }
   ],
   "source": [
    "\n",
    "# 假設 X_scaled_years, X_scaled_level, X_scaled_gender, X_scaled_hold 是正規化後的訓練集特徵\n",
    "# y_train_smote_years, y_train_smote_level, y_train_smote_gender, y_train_smote_hold 是四個目標變量的訓練標籤\n",
    "\n",
    "# 定義特徵篩選函數\n",
    "def feature_selection(model, X_train, y_train, threshold):\n",
    "    model.fit(X_train, y_train)\n",
    "    feature_importances = model.feature_importances_\n",
    "    selected_features = X_train.columns[feature_importances > threshold]\n",
    "    return selected_features\n",
    "\n",
    "#objective='multi:softmax', num_class=3\n",
    "# 特徵篩選 - years\n",
    "years_model = XGBClassifier(\n",
    "    objective='multi:softmax', num_class=3, n_jobs=-1, random_state = 42\n",
    ")\n",
    "selected_features_years = feature_selection(years_model, pd.DataFrame(X_scaled, columns=X_train.columns), y_play_years, 0.01)\n",
    "X_train_selected_years = pd.DataFrame(X_scaled, columns=X_train.columns)[selected_features_years]\n",
    "X_test_selected_years = pd.DataFrame(X_test_scaled, columns=X_train.columns)[selected_features_years]\n",
    "\n",
    "# 特徵篩選 - level\n",
    "level_model = XGBClassifier(\n",
    "    objective='multi:softmax', num_class=3, n_jobs=-1, random_state = 42\n",
    ")\n",
    "selected_features_level = feature_selection(level_model, pd.DataFrame(X_scaled, columns=X_train.columns), y_level, 0.01)\n",
    "X_train_selected_level = pd.DataFrame(X_scaled, columns=X_train.columns)[selected_features_level]\n",
    "X_test_selected_level = pd.DataFrame(X_test_scaled, columns=X_train.columns)[selected_features_level]\n",
    "\n",
    "\n",
    "#objective='multi:softmax', num_class=2, \n",
    "# 特徵篩選 - gender\n",
    "gender_model = XGBClassifier(\n",
    "    objective='multi:softmax', num_class=2, n_jobs=-1, random_state = 42\n",
    ")\n",
    "selected_features_gender = feature_selection(gender_model, pd.DataFrame(X_scaled, columns=X_train.columns), y_gender, 0.01)\n",
    "X_train_selected_gender = pd.DataFrame(X_scaled, columns=X_train.columns)[selected_features_gender]\n",
    "X_test_selected_gender = pd.DataFrame(X_test_scaled, columns=X_train.columns)[selected_features_gender]\n",
    "\n",
    "#objective='multi:softmax', num_class=2, n_jobs=-1, random_state = 42# 特徵篩選 - hold\n",
    "hold_model = XGBClassifier(\n",
    "    objective='multi:softmax', num_class=2, n_jobs=-1, random_state = 42\n",
    ")\n",
    "selected_features_hold = feature_selection(hold_model, pd.DataFrame(X_scaled, columns=X_train.columns), y_hold, 0.01)\n",
    "X_train_selected_hold = pd.DataFrame(X_scaled, columns=X_train.columns)[selected_features_hold]\n",
    "X_test_selected_hold = pd.DataFrame(X_test_scaled, columns=X_train.columns)[selected_features_hold]\n",
    "\n",
    "# 查看每個目標變量的選定特徵\n",
    "print(\"Selected features for years:\", selected_features_years)\n",
    "print(\"Selected features for level:\", selected_features_level)\n",
    "#print(\"Selected features for gender:\", selected_features_gender)\n",
    "print(\"Selected features for hold:\", selected_features_hold)"
   ]
  },
  {
   "cell_type": "code",
   "execution_count": 5,
   "metadata": {},
   "outputs": [],
   "source": [
    "param = {\n",
    "    'n_estimators': 150,\n",
    "    'max_depth': 5,\n",
    "    'learning_rate': 0.06,\n",
    "    'eval_metric': 'logloss',\n",
    "    'subsample': 0.7,\n",
    "    'colsample_bytree': 0.8,\n",
    "    'min_child_weight': 2,\n",
    "    'gamma': 0.2,\n",
    "    'random_state': 42\n",
    "}\n",
    "\n",
    "play_years_model = XGBClassifier(**param, n_jobs = -1)\n",
    "play_years_model.fit(X_train_selected_years, y_play_years, verbose=100)\n",
    "\n",
    "y_pred_years = play_years_model.predict_proba(X_test_selected_years)\n",
    "\n",
    "level_model = XGBClassifier(**param,n_jobs=-1) \n",
    "level_model.fit(X_train_selected_level, y_level, verbose=100)\n",
    "\n",
    "y_pred_level = level_model.predict_proba(X_test_selected_level)\n",
    "\n",
    "gender_model = XGBClassifier(**param, n_jobs = -1) \n",
    "gender_model.fit(X_train_selected_gender, y_gender, verbose=True)\n",
    "\n",
    "y_pred_gender = gender_model.predict_proba(X_test_selected_gender)\n",
    "\n",
    "hold_model = XGBClassifier(**param, n_jobs=-1)\n",
    "hold_model.fit(X_train_selected_hold, y_hold, verbose=True)\n",
    "\n",
    "y_pred_hold = hold_model.predict_proba(X_test_selected_hold)"
   ]
  },
  {
   "cell_type": "code",
   "execution_count": 7,
   "metadata": {},
   "outputs": [
    {
     "name": "stdout",
     "output_type": "stream",
     "text": [
      "   data_ID    gender  hold racket handed  play years_0  play years_1  \\\n",
      "0    26520  0.018615            0.014309      0.929576      0.027087   \n",
      "1    26521  0.004553            0.000179      0.998111      0.001347   \n",
      "2    26522  0.050045            0.000987      0.978436      0.012515   \n",
      "3    26523  0.015051            0.000400      0.995398      0.001728   \n",
      "4    26524  0.038363            0.003167      0.977561      0.011633   \n",
      "\n",
      "   play years_2   level_0   level_1   level_2  \n",
      "0      0.043337  0.498139  0.009842  0.492019  \n",
      "1      0.000542  0.018471  0.041104  0.940425  \n",
      "2      0.009048  0.143976  0.000597  0.855427  \n",
      "3      0.002874  0.027350  0.000147  0.972503  \n",
      "4      0.010807  0.027057  0.000183  0.972760  \n"
     ]
    }
   ],
   "source": [
    "cat_prediction = pd.read_csv('cat_submission.csv')\n",
    "print(cat_prediction.head(5))\n",
    "\n"
   ]
  },
  {
   "cell_type": "code",
   "execution_count": 8,
   "metadata": {},
   "outputs": [],
   "source": [
    "submission = pd.DataFrame({\n",
    "    'data_ID': test_data['data_ID'],\n",
    "    'gender': y_pred_gender[:, 1],\n",
    "    'hold racket handed': y_pred_hold[:, 1],\n",
    "    'play years_0': y_pred_years[:, 0],\n",
    "    'play years_1': y_pred_years[:, 1],\n",
    "    'play years_2': y_pred_years[:, 2],\n",
    "    'level_0': cat_prediction[\"level_0\"],\n",
    "    'level_1': cat_prediction[\"level_1\"],\n",
    "    'level_2': cat_prediction[\"level_2\"]\n",
    "})\n",
    "\n",
    "# 儲存提交檔案\n",
    "submission.to_csv('final_submission.csv', index=False)"
   ]
  }
 ],
 "metadata": {
  "kernelspec": {
   "display_name": "test",
   "language": "python",
   "name": "python3"
  },
  "language_info": {
   "codemirror_mode": {
    "name": "ipython",
    "version": 3
   },
   "file_extension": ".py",
   "mimetype": "text/x-python",
   "name": "python",
   "nbconvert_exporter": "python",
   "pygments_lexer": "ipython3",
   "version": "3.10.16"
  }
 },
 "nbformat": 4,
 "nbformat_minor": 2
}
