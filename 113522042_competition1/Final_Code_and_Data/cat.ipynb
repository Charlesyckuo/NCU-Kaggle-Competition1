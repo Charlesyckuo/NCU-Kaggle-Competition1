{
 "cells": [
  {
   "cell_type": "code",
   "execution_count": 1,
   "metadata": {},
   "outputs": [],
   "source": [
    "import pandas as pd\n",
    "from sklearn.preprocessing import StandardScaler\n",
    "from catboost import CatBoostClassifier"
   ]
  },
  {
   "cell_type": "code",
   "execution_count": 2,
   "metadata": {},
   "outputs": [],
   "source": [
    "train_data = pd.read_csv('train.csv')\n",
    "test_data = pd.read_csv('test.csv')\n",
    "\n",
    "X_train= train_data.drop(columns=['data_ID', 'player_ID', 'gender', 'play years', 'hold racket handed', 'level'])\n",
    "X_test = test_data.drop(columns=['data_ID'])\n",
    "\n",
    "y_play_years = train_data['play years']\n",
    "y_level = train_data['level']\n",
    "y_gender = train_data['gender']\n",
    "y_hold= train_data['hold racket handed']\n",
    "\n",
    "scaler = StandardScaler()\n",
    "X_scaled = scaler.fit_transform(X_train)\n",
    "X_test_scaled = scaler.fit_transform(X_test)\n"
   ]
  },
  {
   "cell_type": "code",
   "execution_count": 3,
   "metadata": {},
   "outputs": [
    {
     "name": "stdout",
     "output_type": "stream",
     "text": [
      "0:\tlearn: 1.0061996\ttotal: 12.8ms\tremaining: 11.7s\n",
      "100:\tlearn: 0.2250335\ttotal: 656ms\tremaining: 5.3s\n",
      "200:\tlearn: 0.1376990\ttotal: 1.35s\tremaining: 4.81s\n",
      "300:\tlearn: 0.0949112\ttotal: 2.07s\tremaining: 4.22s\n",
      "400:\tlearn: 0.0680964\ttotal: 2.78s\tremaining: 3.57s\n",
      "500:\tlearn: 0.0514394\ttotal: 3.49s\tremaining: 2.89s\n",
      "600:\tlearn: 0.0406096\ttotal: 4.2s\tremaining: 2.2s\n",
      "700:\tlearn: 0.0325561\ttotal: 4.91s\tremaining: 1.5s\n",
      "800:\tlearn: 0.0267924\ttotal: 5.62s\tremaining: 806ms\n",
      "900:\tlearn: 0.0222321\ttotal: 6.33s\tremaining: 105ms\n",
      "915:\tlearn: 0.0217077\ttotal: 6.44s\tremaining: 0us\n"
     ]
    }
   ],
   "source": [
    "'''\n",
    "target,best_score,iterations,learning_rate,depth,l2_leaf_reg,bagging_temperature,random_strength,grow_policy\n",
    "play_years,0.9947546808635277,987,0.16387571405882015,6,1.113317424097486,0.12471130806688302,1.167604169384482,SymmetricTree\n",
    "'''\n",
    "\n",
    "'''Best parameters: {'iterations': 916, 'learning_rate': 0.0951882321801274, 'depth': 9, 'l2_leaf_reg': 2.228469135672262, 'bagging_temperature': 0.44846857624686093, 'random_strength': 5.858267588120107, 'grow_policy': 'SymmetricTree'}\n",
    "'''\n",
    "catboost_params = {\n",
    "    \"iterations\": 916,\n",
    "    \"learning_rate\": 0.0951882321801274,\n",
    "    \"depth\": 9,\n",
    "    \"l2_leaf_reg\": 2.228469135672262,\n",
    "    \"bagging_temperature\": 0.44846857624686093,\n",
    "    \"random_strength\": 5.858267588120107,\n",
    "    \"grow_policy\": \"SymmetricTree\",\n",
    "    \"loss_function\": \"MultiClass\",  # 假設目標為多類別\n",
    "    \"eval_metric\": \"MultiClass\",\n",
    "    \"task_type\": \"GPU\",  # 使用 GPU\n",
    "    \"devices\": \"0\"  # 指定 GPU ID 為   # 每 100 次迭代顯示進度\n",
    "}\n",
    "# 使用最佳參數進行最終模型訓練\n",
    "play_years_model = CatBoostClassifier(**catboost_params, verbose=100)\n",
    "play_years_model.fit(X_scaled, y_play_years)\n",
    "\n",
    "y_pred_years = play_years_model.predict_proba(X_test_scaled)\n"
   ]
  },
  {
   "cell_type": "code",
   "execution_count": 7,
   "metadata": {},
   "outputs": [
    {
     "name": "stdout",
     "output_type": "stream",
     "text": [
      "0:\tlearn: 0.5830202\ttotal: 34.9ms\tremaining: 33.5s\n",
      "100:\tlearn: 0.0628987\ttotal: 2.69s\tremaining: 22.9s\n",
      "200:\tlearn: 0.0359734\ttotal: 5.57s\tremaining: 21.1s\n",
      "300:\tlearn: 0.0232913\ttotal: 8.49s\tremaining: 18.7s\n",
      "400:\tlearn: 0.0166643\ttotal: 11.4s\tremaining: 16s\n",
      "500:\tlearn: 0.0127851\ttotal: 14.3s\tremaining: 13.2s\n",
      "600:\tlearn: 0.0102021\ttotal: 17.2s\tremaining: 10.4s\n",
      "700:\tlearn: 0.0083263\ttotal: 20.2s\tremaining: 7.54s\n",
      "800:\tlearn: 0.0070815\ttotal: 23.1s\tremaining: 4.67s\n",
      "900:\tlearn: 0.0060896\ttotal: 26s\tremaining: 1.79s\n",
      "962:\tlearn: 0.0056218\ttotal: 27.8s\tremaining: 0us\n"
     ]
    }
   ],
   "source": [
    "'''parameters: {'iterations': 963, 'learning_rate': 0.18747731645649934, 'depth': 12, 'l2_leaf_reg': 8.491361996781908, 'bagging_temperature': 0.9105125635494488, 'random_strength': 7.793188663483368, 'grow_policy': 'SymmetricTree'}.\n",
    "'''\n",
    "catboost_params = {\n",
    "    \"iterations\": 963,\n",
    "    \"learning_rate\": 0.18747731645649934,\n",
    "    \"depth\": 12,\n",
    "    \"l2_leaf_reg\": 8.491361996781908,\n",
    "    \"bagging_temperature\": 0.9105125635494488,\n",
    "    \"random_strength\": 7.793188663483368,\n",
    "    \"grow_policy\": \"SymmetricTree\",\n",
    "    \"loss_function\": \"MultiClass\",  # 假設目標為多類別\n",
    "    \"eval_metric\": \"MultiClass\",\n",
    "    \"task_type\": \"GPU\",  # 使用 GPU\n",
    "    \"devices\": \"0\"  # 每 100 次迭代顯示進度\n",
    "}\n",
    "# 使用最佳參數進行最終模型訓練\n",
    "gender_model = CatBoostClassifier(**catboost_params, verbose=100)\n",
    "gender_model.fit(X_scaled, y_gender)\n",
    "\n",
    "y_pred_gender = gender_model.predict_proba(X_test_scaled)"
   ]
  },
  {
   "cell_type": "code",
   "execution_count": 4,
   "metadata": {},
   "outputs": [
    {
     "name": "stdout",
     "output_type": "stream",
     "text": [
      "0:\tlearn: 0.6254305\ttotal: 4.85ms\tremaining: 3.33s\n",
      "100:\tlearn: 0.0111831\ttotal: 342ms\tremaining: 1.99s\n",
      "200:\tlearn: 0.0056523\ttotal: 644ms\tremaining: 1.56s\n",
      "300:\tlearn: 0.0035538\ttotal: 1s\tremaining: 1.29s\n",
      "400:\tlearn: 0.0025360\ttotal: 1.37s\tremaining: 982ms\n",
      "500:\tlearn: 0.0019196\ttotal: 1.73s\tremaining: 646ms\n",
      "600:\tlearn: 0.0015504\ttotal: 2.1s\tremaining: 303ms\n",
      "687:\tlearn: 0.0013298\ttotal: 2.41s\tremaining: 0us\n"
     ]
    }
   ],
   "source": [
    "''' old\n",
    "target,best_score,iterations,learning_rate,depth,l2_leaf_reg,bagging_temperature,random_strength,grow_policy\n",
    "hold,0.99493634613878,891,0.27565817252370045,9,1.020858236295393,0.16414116960663735,18.601675243904147,SymmetricTree\n",
    "'''\n",
    "catboost_params = {\n",
    "    \"iterations\": 688,\n",
    "    \"learning_rate\": 0.07362651802352593,\n",
    "    \"depth\": 8,\n",
    "    \"l2_leaf_reg\": 4.401261662908757,\n",
    "    \"bagging_temperature\": 0.4605280507251586,\n",
    "    \"random_strength\": 4.009057205153386,\n",
    "    \"grow_policy\": \"SymmetricTree\",\n",
    "    \"loss_function\": \"MultiClass\",  # 假設為多類別分類\n",
    "    \"eval_metric\": \"MultiClass\",\n",
    "    \"task_type\": \"GPU\",  # 使用 GPU 運算\n",
    "    \"devices\": \"0\" # 每 100 次迭代打印進度\n",
    "}\n",
    "# 使用最佳參數進行最終模型訓練\n",
    "hold_model = CatBoostClassifier(**catboost_params, verbose=100)\n",
    "hold_model.fit(X_scaled, y_hold)\n",
    "\n",
    "y_pred_hold = hold_model.predict_proba(X_test_scaled)\n"
   ]
  },
  {
   "cell_type": "code",
   "execution_count": 5,
   "metadata": {},
   "outputs": [
    {
     "name": "stdout",
     "output_type": "stream",
     "text": [
      "0:\tlearn: 0.9516774\ttotal: 12.4ms\tremaining: 8.75s\n",
      "100:\tlearn: 0.1355333\ttotal: 1.03s\tremaining: 6.22s\n",
      "200:\tlearn: 0.0675708\ttotal: 2.24s\tremaining: 5.66s\n",
      "300:\tlearn: 0.0412799\ttotal: 3.43s\tremaining: 4.65s\n",
      "400:\tlearn: 0.0270553\ttotal: 4.63s\tremaining: 3.55s\n",
      "500:\tlearn: 0.0196957\ttotal: 5.81s\tremaining: 2.41s\n",
      "600:\tlearn: 0.0147509\ttotal: 7s\tremaining: 1.26s\n",
      "700:\tlearn: 0.0116581\ttotal: 8.19s\tremaining: 93.5ms\n",
      "708:\tlearn: 0.0114793\ttotal: 8.29s\tremaining: 0us\n"
     ]
    }
   ],
   "source": [
    "'''{'iterations': 709, 'learning_rate': 0.13801937657498975, 'depth': 10, 'l2_leaf_reg': 2.6819210248840046, 'bagging_temperature': 0.3285902676659536, 'random_strength': 6.392654113508986, 'grow_policy': 'SymmetricTree'}. Best is trial 21 with value: 0.9953838447433737.\n",
    "'''\n",
    "catboost_params = {\n",
    "    \"iterations\": 709,\n",
    "    \"learning_rate\": 0.13801937657498975,\n",
    "    \"depth\": 10,\n",
    "    \"l2_leaf_reg\": 2.6819210248840046,\n",
    "    \"bagging_temperature\": 0.3285902676659536,\n",
    "    \"random_strength\": 6.392654113508986,\n",
    "    \"grow_policy\": \"SymmetricTree\",\n",
    "    \"loss_function\": \"MultiClass\",  # 假設目標是多類別分類\n",
    "    \"eval_metric\": \"MultiClass\",\n",
    "    \"task_type\": \"GPU\",  # 使用 GPU 運算\n",
    "    \"devices\": \"0\"  # 每 100 次迭代打印進度\n",
    "}\n",
    "\n",
    "# 使用最佳參數進行最終模型訓練\n",
    "level_model = CatBoostClassifier(**catboost_params, verbose=100)\n",
    "level_model.fit(X_scaled, y_level)\n",
    "\n",
    "y_pred_level = level_model.predict_proba(X_test_scaled)"
   ]
  },
  {
   "cell_type": "code",
   "execution_count": 8,
   "metadata": {},
   "outputs": [],
   "source": [
    "submission = pd.DataFrame({\n",
    "    'data_ID': test_data['data_ID'],\n",
    "    'gender': y_pred_gender[:, 1],\n",
    "    'hold racket handed': y_pred_hold[:, 1],\n",
    "    'play years_0': y_pred_years[:, 0],\n",
    "    'play years_1': y_pred_years[:, 1],\n",
    "    'play years_2': y_pred_years[:, 2],\n",
    "    'level_0': y_pred_level[:, 0],\n",
    "    'level_1': y_pred_level[:, 1],\n",
    "    'level_2': y_pred_level[:, 2]\n",
    "})\n",
    "\n",
    "# 儲存提交檔案\n",
    "submission.to_csv('cat_submission.csv', index=False)"
   ]
  }
 ],
 "metadata": {
  "kernelspec": {
   "display_name": "test",
   "language": "python",
   "name": "python3"
  },
  "language_info": {
   "codemirror_mode": {
    "name": "ipython",
    "version": 3
   },
   "file_extension": ".py",
   "mimetype": "text/x-python",
   "name": "python",
   "nbconvert_exporter": "python",
   "pygments_lexer": "ipython3",
   "version": "3.10.16"
  }
 },
 "nbformat": 4,
 "nbformat_minor": 2
}
